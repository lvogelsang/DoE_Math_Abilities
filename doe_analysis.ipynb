{
 "cells": [
  {
   "cell_type": "markdown",
   "id": "3b6f8d73-485b-4def-9d1c-5948a0d1a933",
   "metadata": {},
   "source": [
    "# Predicting Student's Math Abilities Using a Multiple Regression Framework"
   ]
  },
  {
   "cell_type": "markdown",
   "id": "ae867beb-06b7-4584-8ddd-862dd3587fe4",
   "metadata": {},
   "source": [
    "### Problem Statement:\n",
    "The latest PISA data from 2019 shows that Australia's performance in Mathematics is continuously declining and has dropped by 33 points between 2003 and 2019 (https://amsi.org.au/2019/12/04/time-to-get-real-on-maths-as-pisa-reveals-decline/). Combined with Australia's IT skills shortage (https://www.commbank.com.au/articles/business/foresight/boosting-australias-tech-talent.html), it is now crucial to act on these issues and to improve student's mathematical literacy."
   ]
  },
  {
   "cell_type": "markdown",
   "id": "80f0e7dd-4e5c-4fb3-aad0-4488c56f8b04",
   "metadata": {},
   "source": [
    "### The Approach:\n",
    "A first step may involve identifying characteristics that are associated with low achievements in Mathematics, which in turn can assist in developing strategies to reverse the trend. Using a multiple regression framework, I aim to determine whether **income**, **English speaking abilities**, **teacher-to-student ratio**, and **gender**, can predict student's scores on the **Math MCAS Test**, and which of those variables has the greatest predictive utility."
   ]
  },
  {
   "cell_type": "markdown",
   "id": "316ba37d-371b-42e0-a02e-64120bece2f9",
   "metadata": {},
   "source": [
    "## Step 1: Cleaning & Preparing the Data"
   ]
  },
  {
   "cell_type": "markdown",
   "id": "a5cfabbf-8928-4953-b852-a39ba343944f",
   "metadata": {},
   "source": [
    "#### Importing Libraries"
   ]
  },
  {
   "cell_type": "code",
   "execution_count": 1,
   "id": "6dff0b68-6744-4af8-bb23-0cff9656a586",
   "metadata": {},
   "outputs": [],
   "source": [
    "import pandas as pd\n",
    "import numpy as np\n",
    "from statistics import stdev\n",
    "import statsmodels.api as sm\n",
    "import seaborn as sns\n",
    "import matplotlib.pyplot as plt\n",
    "from pingouin import partial_corr\n",
    "import pingouin as pg\n",
    "from scipy import stats"
   ]
  },
  {
   "cell_type": "markdown",
   "id": "b99b0a5a-86d4-40c2-b3d5-5ba49b861227",
   "metadata": {},
   "source": [
    "#### Reading the Dataset"
   ]
  },
  {
   "cell_type": "code",
   "execution_count": 2,
   "id": "343fcf62-7bf9-4769-86e1-7d07c968f93b",
   "metadata": {},
   "outputs": [],
   "source": [
    "df_doe = pd.read_csv('./doe_data_raw.csv')"
   ]
  },
  {
   "cell_type": "markdown",
   "id": "d45ddb11-5eca-45ac-bfc7-3af714e638fe",
   "metadata": {},
   "source": [
    "#### Exploring the Dataset"
   ]
  },
  {
   "cell_type": "code",
   "execution_count": 3,
   "id": "0fc2a490-78f5-4f89-a30e-7f396dd5f7c5",
   "metadata": {},
   "outputs": [
    {
     "data": {
      "text/plain": [
       "pandas.core.frame.DataFrame"
      ]
     },
     "execution_count": 3,
     "metadata": {},
     "output_type": "execute_result"
    }
   ],
   "source": [
    "type(df_doe)"
   ]
  },
  {
   "cell_type": "code",
   "execution_count": 4,
   "id": "4d426a91-5740-488c-bcd2-97aae26f6d8a",
   "metadata": {},
   "outputs": [],
   "source": [
    "df_doe.set_index(\"district_code\", inplace = True)"
   ]
  },
  {
   "cell_type": "code",
   "execution_count": 5,
   "id": "539f89e0-f5ba-4929-bf7b-7fc01e56cbe6",
   "metadata": {},
   "outputs": [
    {
     "data": {
      "text/plain": [
       "(409, 60)"
      ]
     },
     "execution_count": 5,
     "metadata": {},
     "output_type": "execute_result"
    }
   ],
   "source": [
    "df_doe.shape"
   ]
  },
  {
   "cell_type": "code",
   "execution_count": 6,
   "id": "e4b9aa54-f001-4ae1-b9d8-c5f6d7d4e9cf",
   "metadata": {},
   "outputs": [
    {
     "data": {
      "text/html": [
       "<div>\n",
       "<style scoped>\n",
       "    .dataframe tbody tr th:only-of-type {\n",
       "        vertical-align: middle;\n",
       "    }\n",
       "\n",
       "    .dataframe tbody tr th {\n",
       "        vertical-align: top;\n",
       "    }\n",
       "\n",
       "    .dataframe thead th {\n",
       "        text-align: right;\n",
       "    }\n",
       "</style>\n",
       "<table border=\"1\" class=\"dataframe\">\n",
       "  <thead>\n",
       "    <tr style=\"text-align: right;\">\n",
       "      <th></th>\n",
       "      <th>attendance</th>\n",
       "      <th>absences</th>\n",
       "      <th>absent_10_plus</th>\n",
       "      <th>chronically_absent_10_plus</th>\n",
       "      <th>unexcused_9</th>\n",
       "      <th>college_pct</th>\n",
       "      <th>in_school_susp</th>\n",
       "      <th>out_school_susp</th>\n",
       "      <th>expulsion</th>\n",
       "      <th>alternate_setting</th>\n",
       "      <th>...</th>\n",
       "      <th>stratio</th>\n",
       "      <th>students</th>\n",
       "      <th>students_disciplined</th>\n",
       "      <th>pct_one_day</th>\n",
       "      <th>pct_two_days</th>\n",
       "      <th>pct_4_days</th>\n",
       "      <th>pct_8_days</th>\n",
       "      <th>pct_10_days</th>\n",
       "      <th>type</th>\n",
       "      <th>median_income</th>\n",
       "    </tr>\n",
       "    <tr>\n",
       "      <th>district_code</th>\n",
       "      <th></th>\n",
       "      <th></th>\n",
       "      <th></th>\n",
       "      <th></th>\n",
       "      <th></th>\n",
       "      <th></th>\n",
       "      <th></th>\n",
       "      <th></th>\n",
       "      <th></th>\n",
       "      <th></th>\n",
       "      <th></th>\n",
       "      <th></th>\n",
       "      <th></th>\n",
       "      <th></th>\n",
       "      <th></th>\n",
       "      <th></th>\n",
       "      <th></th>\n",
       "      <th></th>\n",
       "      <th></th>\n",
       "      <th></th>\n",
       "      <th></th>\n",
       "    </tr>\n",
       "  </thead>\n",
       "  <tbody>\n",
       "    <tr>\n",
       "      <th>4190000</th>\n",
       "      <td>95.0</td>\n",
       "      <td>9.0</td>\n",
       "      <td>29.0</td>\n",
       "      <td>14.0</td>\n",
       "      <td>17.0</td>\n",
       "      <td>NaN</td>\n",
       "      <td>0.0</td>\n",
       "      <td>11.0</td>\n",
       "      <td>0.0</td>\n",
       "      <td>0.0</td>\n",
       "      <td>...</td>\n",
       "      <td>12.0</td>\n",
       "      <td>231.0</td>\n",
       "      <td>25</td>\n",
       "      <td>1.0</td>\n",
       "      <td>6.0</td>\n",
       "      <td>2.0</td>\n",
       "      <td>1.0</td>\n",
       "      <td>1.0</td>\n",
       "      <td>Charter</td>\n",
       "      <td>NaN</td>\n",
       "    </tr>\n",
       "    <tr>\n",
       "      <th>8720000</th>\n",
       "      <td>96.0</td>\n",
       "      <td>8.0</td>\n",
       "      <td>33.0</td>\n",
       "      <td>10.0</td>\n",
       "      <td>13.0</td>\n",
       "      <td>48.0</td>\n",
       "      <td>0.0</td>\n",
       "      <td>4.0</td>\n",
       "      <td>0.0</td>\n",
       "      <td>0.0</td>\n",
       "      <td>...</td>\n",
       "      <td>12.0</td>\n",
       "      <td>1449.0</td>\n",
       "      <td>64</td>\n",
       "      <td>2.0</td>\n",
       "      <td>2.0</td>\n",
       "      <td>1.0</td>\n",
       "      <td>0.0</td>\n",
       "      <td>0.0</td>\n",
       "      <td>Vocational Technical</td>\n",
       "      <td>NaN</td>\n",
       "    </tr>\n",
       "    <tr>\n",
       "      <th>2070000</th>\n",
       "      <td>96.0</td>\n",
       "      <td>8.0</td>\n",
       "      <td>28.0</td>\n",
       "      <td>8.0</td>\n",
       "      <td>1.0</td>\n",
       "      <td>81.0</td>\n",
       "      <td>2.0</td>\n",
       "      <td>1.0</td>\n",
       "      <td>0.0</td>\n",
       "      <td>0.0</td>\n",
       "      <td>...</td>\n",
       "      <td>12.0</td>\n",
       "      <td>13270.0</td>\n",
       "      <td>277</td>\n",
       "      <td>1.0</td>\n",
       "      <td>1.0</td>\n",
       "      <td>0.0</td>\n",
       "      <td>0.0</td>\n",
       "      <td>0.0</td>\n",
       "      <td>District</td>\n",
       "      <td>51153.0</td>\n",
       "    </tr>\n",
       "    <tr>\n",
       "      <th>390000</th>\n",
       "      <td>97.0</td>\n",
       "      <td>6.0</td>\n",
       "      <td>20.0</td>\n",
       "      <td>1.0</td>\n",
       "      <td>10.0</td>\n",
       "      <td>NaN</td>\n",
       "      <td>NaN</td>\n",
       "      <td>NaN</td>\n",
       "      <td>NaN</td>\n",
       "      <td>NaN</td>\n",
       "      <td>...</td>\n",
       "      <td>13.0</td>\n",
       "      <td>310.0</td>\n",
       "      <td>4</td>\n",
       "      <td>NaN</td>\n",
       "      <td>NaN</td>\n",
       "      <td>NaN</td>\n",
       "      <td>NaN</td>\n",
       "      <td>NaN</td>\n",
       "      <td>District</td>\n",
       "      <td>NaN</td>\n",
       "    </tr>\n",
       "    <tr>\n",
       "      <th>2340000</th>\n",
       "      <td>99.0</td>\n",
       "      <td>2.0</td>\n",
       "      <td>0.0</td>\n",
       "      <td>0.0</td>\n",
       "      <td>0.0</td>\n",
       "      <td>NaN</td>\n",
       "      <td>4.0</td>\n",
       "      <td>3.0</td>\n",
       "      <td>0.0</td>\n",
       "      <td>0.0</td>\n",
       "      <td>...</td>\n",
       "      <td>11.0</td>\n",
       "      <td>116.0</td>\n",
       "      <td>8</td>\n",
       "      <td>5.0</td>\n",
       "      <td>1.0</td>\n",
       "      <td>1.0</td>\n",
       "      <td>0.0</td>\n",
       "      <td>0.0</td>\n",
       "      <td>District</td>\n",
       "      <td>NaN</td>\n",
       "    </tr>\n",
       "  </tbody>\n",
       "</table>\n",
       "<p>5 rows × 60 columns</p>\n",
       "</div>"
      ],
      "text/plain": [
       "               attendance  absences  absent_10_plus  \\\n",
       "district_code                                         \n",
       "4190000              95.0       9.0            29.0   \n",
       "8720000              96.0       8.0            33.0   \n",
       "2070000              96.0       8.0            28.0   \n",
       "390000               97.0       6.0            20.0   \n",
       "2340000              99.0       2.0             0.0   \n",
       "\n",
       "               chronically_absent_10_plus  unexcused_9  college_pct  \\\n",
       "district_code                                                         \n",
       "4190000                              14.0         17.0          NaN   \n",
       "8720000                              10.0         13.0         48.0   \n",
       "2070000                               8.0          1.0         81.0   \n",
       "390000                                1.0         10.0          NaN   \n",
       "2340000                               0.0          0.0          NaN   \n",
       "\n",
       "               in_school_susp  out_school_susp  expulsion  alternate_setting  \\\n",
       "district_code                                                                  \n",
       "4190000                   0.0             11.0        0.0                0.0   \n",
       "8720000                   0.0              4.0        0.0                0.0   \n",
       "2070000                   2.0              1.0        0.0                0.0   \n",
       "390000                    NaN              NaN        NaN                NaN   \n",
       "2340000                   4.0              3.0        0.0                0.0   \n",
       "\n",
       "               ...  stratio  students  students_disciplined  pct_one_day  \\\n",
       "district_code  ...                                                         \n",
       "4190000        ...     12.0     231.0                    25          1.0   \n",
       "8720000        ...     12.0    1449.0                    64          2.0   \n",
       "2070000        ...     12.0   13270.0                   277          1.0   \n",
       "390000         ...     13.0     310.0                     4          NaN   \n",
       "2340000        ...     11.0     116.0                     8          5.0   \n",
       "\n",
       "               pct_two_days  pct_4_days  pct_8_days  pct_10_days  \\\n",
       "district_code                                                      \n",
       "4190000                 6.0         2.0         1.0          1.0   \n",
       "8720000                 2.0         1.0         0.0          0.0   \n",
       "2070000                 1.0         0.0         0.0          0.0   \n",
       "390000                  NaN         NaN         NaN          NaN   \n",
       "2340000                 1.0         1.0         0.0          0.0   \n",
       "\n",
       "                               type  median_income  \n",
       "district_code                                       \n",
       "4190000                     Charter            NaN  \n",
       "8720000        Vocational Technical            NaN  \n",
       "2070000                    District        51153.0  \n",
       "390000                     District            NaN  \n",
       "2340000                    District            NaN  \n",
       "\n",
       "[5 rows x 60 columns]"
      ]
     },
     "execution_count": 6,
     "metadata": {},
     "output_type": "execute_result"
    }
   ],
   "source": [
    "df_doe.sample(5)"
   ]
  },
  {
   "cell_type": "code",
   "execution_count": 7,
   "id": "0ed01b8f-2907-4e17-aecd-6b4002f6c1bc",
   "metadata": {},
   "outputs": [
    {
     "data": {
      "text/plain": [
       "Index(['attendance', 'absences', 'absent_10_plus',\n",
       "       'chronically_absent_10_plus', 'unexcused_9', 'college_pct',\n",
       "       'in_school_susp', 'out_school_susp', 'expulsion', 'alternate_setting',\n",
       "       'emergency_removal', 'stud_african_american_pct', 'stud_asian_pct',\n",
       "       'stud_hispanic_pct', 'stud_white_pct', 'stud_amerind_pct',\n",
       "       'stud_pacisl_pct', 'stud_multi_pct', 'teach_exemplary_pct',\n",
       "       'teach_proficient_pct', 'teach_ni_pct', 'teach_unsat_pct', 'grad_pct',\n",
       "       'm_e_pct_ela', 'score_ela', 'm_e_pct_math', 'score_math', 'ppe',\n",
       "       'retained_pct', 'salary', 'sat_verbal', 'sat_math', 'classes',\n",
       "       'class_size', 'enrollment', 'female_pct', 'male_pct', 'ell_pct',\n",
       "       'disability_pct', 'low_income_pct', 'teach_african_american_pct',\n",
       "       'teach_asian_pct', 'teach_hispanic_pct', 'teach_white_pct',\n",
       "       'teach_amerind_pct', 'teach_pacisl_pct', 'teach_multi_pct',\n",
       "       'teach_female_pct', 'teach_male_pct', 'teach_licensed_pct', 'stratio',\n",
       "       'students', 'students_disciplined', 'pct_one_day', 'pct_two_days',\n",
       "       'pct_4_days', 'pct_8_days', 'pct_10_days', 'type', 'median_income'],\n",
       "      dtype='object')"
      ]
     },
     "execution_count": 7,
     "metadata": {},
     "output_type": "execute_result"
    }
   ],
   "source": [
    "df_doe.columns"
   ]
  },
  {
   "cell_type": "code",
   "execution_count": 8,
   "id": "6c16f669-f199-4b76-9f00-bf15ab243a06",
   "metadata": {},
   "outputs": [
    {
     "data": {
      "text/html": [
       "<div>\n",
       "<style scoped>\n",
       "    .dataframe tbody tr th:only-of-type {\n",
       "        vertical-align: middle;\n",
       "    }\n",
       "\n",
       "    .dataframe tbody tr th {\n",
       "        vertical-align: top;\n",
       "    }\n",
       "\n",
       "    .dataframe thead th {\n",
       "        text-align: right;\n",
       "    }\n",
       "</style>\n",
       "<table border=\"1\" class=\"dataframe\">\n",
       "  <thead>\n",
       "    <tr style=\"text-align: right;\">\n",
       "      <th></th>\n",
       "      <th>Type</th>\n",
       "    </tr>\n",
       "  </thead>\n",
       "  <tbody>\n",
       "    <tr>\n",
       "      <th>attendance</th>\n",
       "      <td>float64</td>\n",
       "    </tr>\n",
       "    <tr>\n",
       "      <th>absences</th>\n",
       "      <td>float64</td>\n",
       "    </tr>\n",
       "    <tr>\n",
       "      <th>absent_10_plus</th>\n",
       "      <td>float64</td>\n",
       "    </tr>\n",
       "    <tr>\n",
       "      <th>chronically_absent_10_plus</th>\n",
       "      <td>float64</td>\n",
       "    </tr>\n",
       "    <tr>\n",
       "      <th>unexcused_9</th>\n",
       "      <td>float64</td>\n",
       "    </tr>\n",
       "    <tr>\n",
       "      <th>college_pct</th>\n",
       "      <td>float64</td>\n",
       "    </tr>\n",
       "    <tr>\n",
       "      <th>in_school_susp</th>\n",
       "      <td>float64</td>\n",
       "    </tr>\n",
       "    <tr>\n",
       "      <th>out_school_susp</th>\n",
       "      <td>float64</td>\n",
       "    </tr>\n",
       "    <tr>\n",
       "      <th>expulsion</th>\n",
       "      <td>float64</td>\n",
       "    </tr>\n",
       "    <tr>\n",
       "      <th>alternate_setting</th>\n",
       "      <td>float64</td>\n",
       "    </tr>\n",
       "    <tr>\n",
       "      <th>emergency_removal</th>\n",
       "      <td>float64</td>\n",
       "    </tr>\n",
       "    <tr>\n",
       "      <th>stud_african_american_pct</th>\n",
       "      <td>float64</td>\n",
       "    </tr>\n",
       "    <tr>\n",
       "      <th>stud_asian_pct</th>\n",
       "      <td>float64</td>\n",
       "    </tr>\n",
       "    <tr>\n",
       "      <th>stud_hispanic_pct</th>\n",
       "      <td>float64</td>\n",
       "    </tr>\n",
       "    <tr>\n",
       "      <th>stud_white_pct</th>\n",
       "      <td>float64</td>\n",
       "    </tr>\n",
       "    <tr>\n",
       "      <th>stud_amerind_pct</th>\n",
       "      <td>float64</td>\n",
       "    </tr>\n",
       "    <tr>\n",
       "      <th>stud_pacisl_pct</th>\n",
       "      <td>float64</td>\n",
       "    </tr>\n",
       "    <tr>\n",
       "      <th>stud_multi_pct</th>\n",
       "      <td>float64</td>\n",
       "    </tr>\n",
       "    <tr>\n",
       "      <th>teach_exemplary_pct</th>\n",
       "      <td>float64</td>\n",
       "    </tr>\n",
       "    <tr>\n",
       "      <th>teach_proficient_pct</th>\n",
       "      <td>float64</td>\n",
       "    </tr>\n",
       "    <tr>\n",
       "      <th>teach_ni_pct</th>\n",
       "      <td>float64</td>\n",
       "    </tr>\n",
       "    <tr>\n",
       "      <th>teach_unsat_pct</th>\n",
       "      <td>float64</td>\n",
       "    </tr>\n",
       "    <tr>\n",
       "      <th>grad_pct</th>\n",
       "      <td>float64</td>\n",
       "    </tr>\n",
       "    <tr>\n",
       "      <th>m_e_pct_ela</th>\n",
       "      <td>float64</td>\n",
       "    </tr>\n",
       "    <tr>\n",
       "      <th>score_ela</th>\n",
       "      <td>float64</td>\n",
       "    </tr>\n",
       "    <tr>\n",
       "      <th>m_e_pct_math</th>\n",
       "      <td>float64</td>\n",
       "    </tr>\n",
       "    <tr>\n",
       "      <th>score_math</th>\n",
       "      <td>float64</td>\n",
       "    </tr>\n",
       "    <tr>\n",
       "      <th>ppe</th>\n",
       "      <td>float64</td>\n",
       "    </tr>\n",
       "    <tr>\n",
       "      <th>retained_pct</th>\n",
       "      <td>float64</td>\n",
       "    </tr>\n",
       "    <tr>\n",
       "      <th>salary</th>\n",
       "      <td>float64</td>\n",
       "    </tr>\n",
       "    <tr>\n",
       "      <th>sat_verbal</th>\n",
       "      <td>float64</td>\n",
       "    </tr>\n",
       "    <tr>\n",
       "      <th>sat_math</th>\n",
       "      <td>float64</td>\n",
       "    </tr>\n",
       "    <tr>\n",
       "      <th>classes</th>\n",
       "      <td>float64</td>\n",
       "    </tr>\n",
       "    <tr>\n",
       "      <th>class_size</th>\n",
       "      <td>float64</td>\n",
       "    </tr>\n",
       "    <tr>\n",
       "      <th>enrollment</th>\n",
       "      <td>float64</td>\n",
       "    </tr>\n",
       "    <tr>\n",
       "      <th>female_pct</th>\n",
       "      <td>float64</td>\n",
       "    </tr>\n",
       "    <tr>\n",
       "      <th>male_pct</th>\n",
       "      <td>float64</td>\n",
       "    </tr>\n",
       "    <tr>\n",
       "      <th>ell_pct</th>\n",
       "      <td>float64</td>\n",
       "    </tr>\n",
       "    <tr>\n",
       "      <th>disability_pct</th>\n",
       "      <td>float64</td>\n",
       "    </tr>\n",
       "    <tr>\n",
       "      <th>low_income_pct</th>\n",
       "      <td>float64</td>\n",
       "    </tr>\n",
       "    <tr>\n",
       "      <th>teach_african_american_pct</th>\n",
       "      <td>float64</td>\n",
       "    </tr>\n",
       "    <tr>\n",
       "      <th>teach_asian_pct</th>\n",
       "      <td>float64</td>\n",
       "    </tr>\n",
       "    <tr>\n",
       "      <th>teach_hispanic_pct</th>\n",
       "      <td>float64</td>\n",
       "    </tr>\n",
       "    <tr>\n",
       "      <th>teach_white_pct</th>\n",
       "      <td>float64</td>\n",
       "    </tr>\n",
       "    <tr>\n",
       "      <th>teach_amerind_pct</th>\n",
       "      <td>float64</td>\n",
       "    </tr>\n",
       "    <tr>\n",
       "      <th>teach_pacisl_pct</th>\n",
       "      <td>float64</td>\n",
       "    </tr>\n",
       "    <tr>\n",
       "      <th>teach_multi_pct</th>\n",
       "      <td>float64</td>\n",
       "    </tr>\n",
       "    <tr>\n",
       "      <th>teach_female_pct</th>\n",
       "      <td>float64</td>\n",
       "    </tr>\n",
       "    <tr>\n",
       "      <th>teach_male_pct</th>\n",
       "      <td>float64</td>\n",
       "    </tr>\n",
       "    <tr>\n",
       "      <th>teach_licensed_pct</th>\n",
       "      <td>float64</td>\n",
       "    </tr>\n",
       "    <tr>\n",
       "      <th>stratio</th>\n",
       "      <td>float64</td>\n",
       "    </tr>\n",
       "    <tr>\n",
       "      <th>students</th>\n",
       "      <td>float64</td>\n",
       "    </tr>\n",
       "    <tr>\n",
       "      <th>students_disciplined</th>\n",
       "      <td>object</td>\n",
       "    </tr>\n",
       "    <tr>\n",
       "      <th>pct_one_day</th>\n",
       "      <td>float64</td>\n",
       "    </tr>\n",
       "    <tr>\n",
       "      <th>pct_two_days</th>\n",
       "      <td>float64</td>\n",
       "    </tr>\n",
       "    <tr>\n",
       "      <th>pct_4_days</th>\n",
       "      <td>float64</td>\n",
       "    </tr>\n",
       "    <tr>\n",
       "      <th>pct_8_days</th>\n",
       "      <td>float64</td>\n",
       "    </tr>\n",
       "    <tr>\n",
       "      <th>pct_10_days</th>\n",
       "      <td>float64</td>\n",
       "    </tr>\n",
       "    <tr>\n",
       "      <th>type</th>\n",
       "      <td>object</td>\n",
       "    </tr>\n",
       "    <tr>\n",
       "      <th>median_income</th>\n",
       "      <td>float64</td>\n",
       "    </tr>\n",
       "  </tbody>\n",
       "</table>\n",
       "</div>"
      ],
      "text/plain": [
       "                               Type\n",
       "attendance                  float64\n",
       "absences                    float64\n",
       "absent_10_plus              float64\n",
       "chronically_absent_10_plus  float64\n",
       "unexcused_9                 float64\n",
       "college_pct                 float64\n",
       "in_school_susp              float64\n",
       "out_school_susp             float64\n",
       "expulsion                   float64\n",
       "alternate_setting           float64\n",
       "emergency_removal           float64\n",
       "stud_african_american_pct   float64\n",
       "stud_asian_pct              float64\n",
       "stud_hispanic_pct           float64\n",
       "stud_white_pct              float64\n",
       "stud_amerind_pct            float64\n",
       "stud_pacisl_pct             float64\n",
       "stud_multi_pct              float64\n",
       "teach_exemplary_pct         float64\n",
       "teach_proficient_pct        float64\n",
       "teach_ni_pct                float64\n",
       "teach_unsat_pct             float64\n",
       "grad_pct                    float64\n",
       "m_e_pct_ela                 float64\n",
       "score_ela                   float64\n",
       "m_e_pct_math                float64\n",
       "score_math                  float64\n",
       "ppe                         float64\n",
       "retained_pct                float64\n",
       "salary                      float64\n",
       "sat_verbal                  float64\n",
       "sat_math                    float64\n",
       "classes                     float64\n",
       "class_size                  float64\n",
       "enrollment                  float64\n",
       "female_pct                  float64\n",
       "male_pct                    float64\n",
       "ell_pct                     float64\n",
       "disability_pct              float64\n",
       "low_income_pct              float64\n",
       "teach_african_american_pct  float64\n",
       "teach_asian_pct             float64\n",
       "teach_hispanic_pct          float64\n",
       "teach_white_pct             float64\n",
       "teach_amerind_pct           float64\n",
       "teach_pacisl_pct            float64\n",
       "teach_multi_pct             float64\n",
       "teach_female_pct            float64\n",
       "teach_male_pct              float64\n",
       "teach_licensed_pct          float64\n",
       "stratio                     float64\n",
       "students                    float64\n",
       "students_disciplined         object\n",
       "pct_one_day                 float64\n",
       "pct_two_days                float64\n",
       "pct_4_days                  float64\n",
       "pct_8_days                  float64\n",
       "pct_10_days                 float64\n",
       "type                         object\n",
       "median_income               float64"
      ]
     },
     "execution_count": 8,
     "metadata": {},
     "output_type": "execute_result"
    }
   ],
   "source": [
    "pd.DataFrame(df_doe.dtypes, columns=['Type'])"
   ]
  },
  {
   "cell_type": "markdown",
   "id": "8e427797-fa4c-4168-a2e4-ba7c18a23c56",
   "metadata": {},
   "source": [
    "### Duplicates"
   ]
  },
  {
   "cell_type": "code",
   "execution_count": 9,
   "id": "d4ed5877-810e-4d9e-967e-cd72c339ed60",
   "metadata": {},
   "outputs": [
    {
     "data": {
      "text/plain": [
       "0"
      ]
     },
     "execution_count": 9,
     "metadata": {},
     "output_type": "execute_result"
    }
   ],
   "source": [
    "df_doe.duplicated(keep=False).sum()"
   ]
  },
  {
   "cell_type": "markdown",
   "id": "808e9b5f-50b8-4d14-8680-0f7068ffe0f4",
   "metadata": {},
   "source": [
    "There are no duplicates in this dataset."
   ]
  },
  {
   "cell_type": "markdown",
   "id": "83ab8970-4504-4921-80fb-20f931c2c6a9",
   "metadata": {},
   "source": [
    "### Dropping Irrelevant Columns"
   ]
  },
  {
   "cell_type": "markdown",
   "id": "b99fd9dd-b043-41f9-9393-f451fbd9a696",
   "metadata": {},
   "source": [
    "I am keeping **sat_math** in my dataset to use it later for missing values."
   ]
  },
  {
   "cell_type": "code",
   "execution_count": 10,
   "id": "5a133969-1188-422c-8da5-8e931a3c9407",
   "metadata": {},
   "outputs": [],
   "source": [
    "df_doe = df_doe[['score_math','female_pct', 'ell_pct', 'low_income_pct', 'stratio', 'sat_math']].copy()"
   ]
  },
  {
   "cell_type": "markdown",
   "id": "06bfc0e2-c702-4bc0-9426-60e39e22f32a",
   "metadata": {
    "tags": []
   },
   "source": [
    "### Structural Issues"
   ]
  },
  {
   "cell_type": "markdown",
   "id": "1f925ff8-0249-44d4-b9ce-53c6404d53e7",
   "metadata": {},
   "source": [
    "Checking negative values:"
   ]
  },
  {
   "cell_type": "code",
   "execution_count": 11,
   "id": "bc6fb024-5295-47d6-9fb6-eafce2972f61",
   "metadata": {},
   "outputs": [],
   "source": [
    "def is_negative_val(x):\n",
    "    mask = x<0\n",
    "    i = np.where(mask, 1, 0)\n",
    "    return (i)"
   ]
  },
  {
   "cell_type": "code",
   "execution_count": 12,
   "id": "d5af5625-11f3-4607-88d8-cafa99264fe2",
   "metadata": {
    "tags": []
   },
   "outputs": [
    {
     "data": {
      "text/plain": [
       "5"
      ]
     },
     "execution_count": 12,
     "metadata": {},
     "output_type": "execute_result"
    }
   ],
   "source": [
    "i = 0;\n",
    "for n,c in df_doe.items():\n",
    "    i = i + is_negative_val(c)\n",
    "sum(i)"
   ]
  },
  {
   "cell_type": "markdown",
   "id": "3514745a-e01b-4ac6-a5e7-652101d3fdea",
   "metadata": {},
   "source": [
    "There are 5 negative values in our data set, which are not plausible values - therefore, I remove them and treat them as missing values:"
   ]
  },
  {
   "cell_type": "code",
   "execution_count": 13,
   "id": "4ce7bfec-1213-46d7-8dee-fdd2d44faf85",
   "metadata": {},
   "outputs": [],
   "source": [
    "def replace_neg_val(x):\n",
    "    mask = x<0\n",
    "    x = np.where(mask, float(\"NaN\"), x)\n",
    "    return (x)"
   ]
  },
  {
   "cell_type": "code",
   "execution_count": 14,
   "id": "7adfddc0-b182-42d5-9dc7-52146f77adc2",
   "metadata": {
    "tags": []
   },
   "outputs": [],
   "source": [
    "for n,c in df_doe.items():\n",
    "        df_doe[n] = replace_neg_val(c)"
   ]
  },
  {
   "cell_type": "markdown",
   "id": "b6088811-4557-4072-ba35-50593c512bf8",
   "metadata": {},
   "source": [
    "### Missing Values"
   ]
  },
  {
   "cell_type": "code",
   "execution_count": 15,
   "id": "9d480b08-4183-432a-9224-4d49112ca503",
   "metadata": {},
   "outputs": [],
   "source": [
    "df_doe.dropna(how=\"all\", inplace=True)"
   ]
  },
  {
   "cell_type": "markdown",
   "id": "7e56d700-1e6c-4d58-ad6d-9c9c8c435cf7",
   "metadata": {},
   "source": [
    "Upon inspection of the dataset, I can identify four rows with a lot of missing values. I drop them from the dataset."
   ]
  },
  {
   "cell_type": "code",
   "execution_count": 16,
   "id": "971792ac-1d1a-491e-9334-d8b74ce4e80a",
   "metadata": {},
   "outputs": [],
   "source": [
    "df_doe.drop(35160000, axis=0, inplace=True)\n",
    "df_doe.drop(35170000, axis=0, inplace=True)\n",
    "df_doe.drop(35180000, axis=0, inplace=True)"
   ]
  },
  {
   "cell_type": "code",
   "execution_count": 17,
   "id": "8b91386d-8d7a-4e80-a5d5-44c2723f4450",
   "metadata": {},
   "outputs": [],
   "source": [
    "df_doe.drop(4300000, axis=0, inplace=True)"
   ]
  },
  {
   "cell_type": "code",
   "execution_count": 18,
   "id": "33bf9e21-b1ee-4b27-b258-c121ed8b7364",
   "metadata": {},
   "outputs": [
    {
     "data": {
      "text/plain": [
       "163"
      ]
     },
     "execution_count": 18,
     "metadata": {},
     "output_type": "execute_result"
    }
   ],
   "source": [
    "df_doe.isnull().sum().sum()"
   ]
  },
  {
   "cell_type": "code",
   "execution_count": 19,
   "id": "12055718-ff24-40e8-9f7e-3eb19f7ec282",
   "metadata": {},
   "outputs": [
    {
     "data": {
      "text/html": [
       "<div>\n",
       "<style scoped>\n",
       "    .dataframe tbody tr th:only-of-type {\n",
       "        vertical-align: middle;\n",
       "    }\n",
       "\n",
       "    .dataframe tbody tr th {\n",
       "        vertical-align: top;\n",
       "    }\n",
       "\n",
       "    .dataframe thead th {\n",
       "        text-align: right;\n",
       "    }\n",
       "</style>\n",
       "<table border=\"1\" class=\"dataframe\">\n",
       "  <thead>\n",
       "    <tr style=\"text-align: right;\">\n",
       "      <th>Column</th>\n",
       "      <th>score_math</th>\n",
       "      <th>female_pct</th>\n",
       "      <th>ell_pct</th>\n",
       "      <th>low_income_pct</th>\n",
       "      <th>stratio</th>\n",
       "      <th>sat_math</th>\n",
       "    </tr>\n",
       "  </thead>\n",
       "  <tbody>\n",
       "    <tr>\n",
       "      <th>Count of Nulls</th>\n",
       "      <td>48</td>\n",
       "      <td>0</td>\n",
       "      <td>0</td>\n",
       "      <td>0</td>\n",
       "      <td>4</td>\n",
       "      <td>111</td>\n",
       "    </tr>\n",
       "  </tbody>\n",
       "</table>\n",
       "</div>"
      ],
      "text/plain": [
       "Column          score_math  female_pct  ell_pct  low_income_pct  stratio  \\\n",
       "Count of Nulls          48           0        0               0        4   \n",
       "\n",
       "Column          sat_math  \n",
       "Count of Nulls       111  "
      ]
     },
     "execution_count": 19,
     "metadata": {},
     "output_type": "execute_result"
    }
   ],
   "source": [
    "df_null = pd.DataFrame(df_doe.isnull().sum(), columns=['Count of Nulls'])\n",
    "df_null.index.name = 'Column'\n",
    "df_null.T"
   ]
  },
  {
   "cell_type": "markdown",
   "id": "4f9b13d1-5aa9-426d-9e14-d3f19bd2f386",
   "metadata": {},
   "source": [
    "The table above summarizes the missing values in the dataset. For the purpose of this analysis, I focus on the missing values for my variables of interest only. "
   ]
  },
  {
   "cell_type": "markdown",
   "id": "d691b43d-819c-4ed0-8262-bfd08905e130",
   "metadata": {},
   "source": [
    "I fill the missing values of **stratio** with its median:"
   ]
  },
  {
   "cell_type": "code",
   "execution_count": 20,
   "id": "527a2723-d842-4dfa-be18-39ec6fede0b0",
   "metadata": {},
   "outputs": [],
   "source": [
    "df_doe.fillna(value={'stratio': df_doe.stratio.median()}, inplace=True)"
   ]
  },
  {
   "cell_type": "markdown",
   "id": "98d6871a-25d7-4803-901d-23e3a360f3e9",
   "metadata": {},
   "source": [
    "Because I have data from the SAT Math Test available, I am using the scores on **sat_math** to predict the scores on **score_math** and use those predictions to fill the missing values."
   ]
  },
  {
   "cell_type": "code",
   "execution_count": 21,
   "id": "3fcf5a3b-a8b6-41f7-934a-af0b5aeb1f07",
   "metadata": {},
   "outputs": [
    {
     "data": {
      "text/html": [
       "<div>\n",
       "<style scoped>\n",
       "    .dataframe tbody tr th:only-of-type {\n",
       "        vertical-align: middle;\n",
       "    }\n",
       "\n",
       "    .dataframe tbody tr th {\n",
       "        vertical-align: top;\n",
       "    }\n",
       "\n",
       "    .dataframe thead th {\n",
       "        text-align: right;\n",
       "    }\n",
       "</style>\n",
       "<table border=\"1\" class=\"dataframe\">\n",
       "  <thead>\n",
       "    <tr style=\"text-align: right;\">\n",
       "      <th></th>\n",
       "      <th>score_math</th>\n",
       "      <th>sat_math</th>\n",
       "    </tr>\n",
       "  </thead>\n",
       "  <tbody>\n",
       "    <tr>\n",
       "      <th>score_math</th>\n",
       "      <td>1.000000</td>\n",
       "      <td>0.838211</td>\n",
       "    </tr>\n",
       "    <tr>\n",
       "      <th>sat_math</th>\n",
       "      <td>0.838211</td>\n",
       "      <td>1.000000</td>\n",
       "    </tr>\n",
       "  </tbody>\n",
       "</table>\n",
       "</div>"
      ],
      "text/plain": [
       "            score_math  sat_math\n",
       "score_math    1.000000  0.838211\n",
       "sat_math      0.838211  1.000000"
      ]
     },
     "execution_count": 21,
     "metadata": {},
     "output_type": "execute_result"
    }
   ],
   "source": [
    "df_math = df_doe[['score_math', 'sat_math']].copy()\n",
    "df_math.dropna(how=\"any\", axis=0, inplace=True)\n",
    "df_math.corr()"
   ]
  },
  {
   "cell_type": "markdown",
   "id": "5e057792-9e46-4ba3-b5c4-32d92049a751",
   "metadata": {},
   "source": [
    "The correlation between the two Math tests is strong with a correlation coefficient of 0.84 and gives me confidence that the replacement values are more accurate than the mean or median would be."
   ]
  },
  {
   "cell_type": "code",
   "execution_count": 22,
   "id": "313e5eb0-f6e2-40e7-91f2-a27e3e6278b4",
   "metadata": {},
   "outputs": [],
   "source": [
    "y = df_math['score_math']\n",
    "x = df_math[['sat_math']]"
   ]
  },
  {
   "cell_type": "code",
   "execution_count": 23,
   "id": "fb7b5e47-f78e-447a-b91e-b3a0ac7f8d59",
   "metadata": {},
   "outputs": [
    {
     "name": "stdout",
     "output_type": "stream",
     "text": [
      "                            OLS Regression Results                            \n",
      "==============================================================================\n",
      "Dep. Variable:             score_math   R-squared:                       0.703\n",
      "Model:                            OLS   Adj. R-squared:                  0.701\n",
      "Method:                 Least Squares   F-statistic:                     588.2\n",
      "Date:                Wed, 07 Dec 2022   Prob (F-statistic):           1.62e-67\n",
      "Time:                        14:03:55   Log-Likelihood:                -716.22\n",
      "No. Observations:                 251   AIC:                             1436.\n",
      "Df Residuals:                     249   BIC:                             1443.\n",
      "Df Model:                           1                                         \n",
      "Covariance Type:            nonrobust                                         \n",
      "==============================================================================\n",
      "                 coef    std err          t      P>|t|      [0.025      0.975]\n",
      "------------------------------------------------------------------------------\n",
      "const        411.5787      3.621    113.671      0.000     404.447     418.710\n",
      "sat_math       0.1576      0.006     24.254      0.000       0.145       0.170\n",
      "==============================================================================\n",
      "Omnibus:                       30.106   Durbin-Watson:                   1.909\n",
      "Prob(Omnibus):                  0.000   Jarque-Bera (JB):               46.098\n",
      "Skew:                          -0.723   Prob(JB):                     9.77e-11\n",
      "Kurtosis:                       4.522   Cond. No.                     7.58e+03\n",
      "==============================================================================\n",
      "\n",
      "Notes:\n",
      "[1] Standard Errors assume that the covariance matrix of the errors is correctly specified.\n",
      "[2] The condition number is large, 7.58e+03. This might indicate that there are\n",
      "strong multicollinearity or other numerical problems.\n"
     ]
    }
   ],
   "source": [
    "x = sm.add_constant(x)\n",
    "model = sm.OLS(y, x).fit()\n",
    "print(model.summary())"
   ]
  },
  {
   "cell_type": "code",
   "execution_count": 24,
   "id": "2630ec62-d491-4456-be86-22ba81330caf",
   "metadata": {},
   "outputs": [],
   "source": [
    "x = df_doe[['sat_math']]\n",
    "x = sm.add_constant(x)\n",
    "df_doe['score_math_pred'] = model.predict(x)"
   ]
  },
  {
   "cell_type": "code",
   "execution_count": 25,
   "id": "7294bc13-1e9d-4af9-9537-cba420e75cc6",
   "metadata": {},
   "outputs": [],
   "source": [
    "df_doe['score_math'].fillna(df_doe['score_math_pred'], inplace=True)"
   ]
  },
  {
   "cell_type": "markdown",
   "id": "4c13da6f-21fd-45e8-90e4-b6ceac81ae76",
   "metadata": {},
   "source": [
    "I fill the remaining missing values of **score_math** with its mean. This happened when both the **score_math** and **sat_math** score were missing."
   ]
  },
  {
   "cell_type": "code",
   "execution_count": 26,
   "id": "8fe892e9-8be7-47de-89ab-4e9703357eb2",
   "metadata": {},
   "outputs": [],
   "source": [
    "df_doe.fillna(value={'score_math': df_doe.score_math.mean()}, inplace=True)"
   ]
  },
  {
   "cell_type": "code",
   "execution_count": 27,
   "id": "ca3bfcc3-40bf-4ed5-8625-e57cbbde5bc6",
   "metadata": {},
   "outputs": [],
   "source": [
    "df_doe.drop(['sat_math', 'score_math_pred'], axis=1, inplace=True);"
   ]
  },
  {
   "cell_type": "markdown",
   "id": "ba8e965b-66e3-4d40-841d-4a78094badd2",
   "metadata": {
    "tags": []
   },
   "source": [
    "### Outliers"
   ]
  },
  {
   "cell_type": "code",
   "execution_count": 28,
   "id": "9fcb570a-f1f1-4e80-8aed-d053dabdfbcd",
   "metadata": {},
   "outputs": [],
   "source": [
    "def count_outliers_std(x):\n",
    "    std = stdev(x)\n",
    "    upper_bound = x.mean()+3*std\n",
    "    lower_bound = max(0, x.mean()-3*std)\n",
    "    mask1 = x>upper_bound\n",
    "    mask2 = x<lower_bound\n",
    "    i = np.where(mask1, 1,\n",
    "                np.where(mask2, 1, 0))\n",
    "    return i"
   ]
  },
  {
   "cell_type": "code",
   "execution_count": 29,
   "id": "6e408a32-76d4-45fc-9483-7a48cebe257e",
   "metadata": {},
   "outputs": [
    {
     "data": {
      "text/plain": [
       "25"
      ]
     },
     "execution_count": 29,
     "metadata": {},
     "output_type": "execute_result"
    }
   ],
   "source": [
    "i = 0;\n",
    "for n,c in df_doe.items():\n",
    "    i = i + count_outliers_std(c)\n",
    "sum(i)"
   ]
  },
  {
   "cell_type": "markdown",
   "id": "f303e15b-f74a-422d-b0dd-c723e50ae477",
   "metadata": {},
   "source": [
    "There are still 25 outliers in our data (a datapoint more than three standard deviations away from the mean). I transform them in the following process by bringing them closer to the mean:"
   ]
  },
  {
   "cell_type": "code",
   "execution_count": 30,
   "id": "4c6002a9-4080-4bff-b14d-015cbd10a290",
   "metadata": {},
   "outputs": [],
   "source": [
    "def fix_outliers_std(x):\n",
    "    std = stdev(x)\n",
    "    upper_bound = x.mean()+3*std\n",
    "    lower_bound = max(0,x.mean()-3*std)\n",
    "    mask1 = x>upper_bound\n",
    "    mask2 = x<lower_bound\n",
    "    x = np.where(mask1,upper_bound,\n",
    "                 np.where(mask2, lower_bound, x))\n",
    "    return x"
   ]
  },
  {
   "cell_type": "code",
   "execution_count": 31,
   "id": "2433ca3b-a7c3-45c1-aded-3991ba36cda2",
   "metadata": {},
   "outputs": [],
   "source": [
    "for n,c in df_doe.items():\n",
    "        df_doe[n] = fix_outliers_std(c)"
   ]
  },
  {
   "cell_type": "markdown",
   "id": "73d8c87e-a3fb-4bf9-94ef-f1d3c1bb7e00",
   "metadata": {},
   "source": [
    "### Re-Validate the Dataset"
   ]
  },
  {
   "cell_type": "markdown",
   "id": "e592c084-cfbb-47ad-937c-95abbca75c71",
   "metadata": {},
   "source": [
    "##### Negative Values:"
   ]
  },
  {
   "cell_type": "code",
   "execution_count": 32,
   "id": "944f437b-f80c-4d8d-98d3-d0b02a129dfb",
   "metadata": {},
   "outputs": [
    {
     "data": {
      "text/plain": [
       "0"
      ]
     },
     "execution_count": 32,
     "metadata": {},
     "output_type": "execute_result"
    }
   ],
   "source": [
    "i = 0;\n",
    "for n,c in df_doe.items():\n",
    "    i = i + is_negative_val(c)\n",
    "sum(i)"
   ]
  },
  {
   "cell_type": "markdown",
   "id": "2ffe7a21-7149-4441-9927-cead4dac4a3a",
   "metadata": {},
   "source": [
    "##### Missing Values:"
   ]
  },
  {
   "cell_type": "code",
   "execution_count": 33,
   "id": "196d363c-1210-4e1f-92bb-756a2b637c49",
   "metadata": {},
   "outputs": [
    {
     "data": {
      "text/html": [
       "<div>\n",
       "<style scoped>\n",
       "    .dataframe tbody tr th:only-of-type {\n",
       "        vertical-align: middle;\n",
       "    }\n",
       "\n",
       "    .dataframe tbody tr th {\n",
       "        vertical-align: top;\n",
       "    }\n",
       "\n",
       "    .dataframe thead th {\n",
       "        text-align: right;\n",
       "    }\n",
       "</style>\n",
       "<table border=\"1\" class=\"dataframe\">\n",
       "  <thead>\n",
       "    <tr style=\"text-align: right;\">\n",
       "      <th></th>\n",
       "      <th>Count of Nulls</th>\n",
       "    </tr>\n",
       "    <tr>\n",
       "      <th>Column</th>\n",
       "      <th></th>\n",
       "    </tr>\n",
       "  </thead>\n",
       "  <tbody>\n",
       "    <tr>\n",
       "      <th>score_math</th>\n",
       "      <td>0</td>\n",
       "    </tr>\n",
       "    <tr>\n",
       "      <th>female_pct</th>\n",
       "      <td>0</td>\n",
       "    </tr>\n",
       "    <tr>\n",
       "      <th>ell_pct</th>\n",
       "      <td>0</td>\n",
       "    </tr>\n",
       "    <tr>\n",
       "      <th>low_income_pct</th>\n",
       "      <td>0</td>\n",
       "    </tr>\n",
       "    <tr>\n",
       "      <th>stratio</th>\n",
       "      <td>0</td>\n",
       "    </tr>\n",
       "  </tbody>\n",
       "</table>\n",
       "</div>"
      ],
      "text/plain": [
       "                Count of Nulls\n",
       "Column                        \n",
       "score_math                   0\n",
       "female_pct                   0\n",
       "ell_pct                      0\n",
       "low_income_pct               0\n",
       "stratio                      0"
      ]
     },
     "execution_count": 33,
     "metadata": {},
     "output_type": "execute_result"
    }
   ],
   "source": [
    "df_null = pd.DataFrame(df_doe.isnull().sum(), columns=['Count of Nulls'])\n",
    "df_null.index.name = 'Column'\n",
    "df_null"
   ]
  },
  {
   "cell_type": "markdown",
   "id": "e1479e15-c377-46de-9b5d-d440234a868a",
   "metadata": {},
   "source": [
    "##### Outliers:"
   ]
  },
  {
   "cell_type": "code",
   "execution_count": 34,
   "id": "903c1155-502b-47e6-b9ed-a200a9e4a58c",
   "metadata": {},
   "outputs": [
    {
     "data": {
      "text/plain": [
       "30"
      ]
     },
     "execution_count": 34,
     "metadata": {},
     "output_type": "execute_result"
    }
   ],
   "source": [
    "i = 0;\n",
    "for n,c in df_doe.items():\n",
    "    i = i + count_outliers_std(c)\n",
    "sum(i)"
   ]
  },
  {
   "cell_type": "markdown",
   "id": "42a3c409-7114-4543-9a73-3eae87b032b1",
   "metadata": {},
   "source": [
    "Why do I still have outliers in our data? When I modified the previous outliers, I brought them closer to the mean - this, of course, impacts both the means and standard deviations of the variables. So, I am now comparing the values to a different standard. I won't further modify any of those values as this would impact the accurateness of our data too much."
   ]
  },
  {
   "cell_type": "markdown",
   "id": "bf8b9214-38e9-439e-b63e-71d7aa3f01de",
   "metadata": {},
   "source": [
    "The dataset has now been cleaned (duplicates have been removed, structural issues have been resolved, missing values have been handled with the help of means, medians, and simple regression models, and outliers have been handled) and is ready for further analysis."
   ]
  },
  {
   "cell_type": "code",
   "execution_count": 35,
   "id": "e9fc15da-7bd9-4bfa-92b5-7825a82c43ae",
   "metadata": {},
   "outputs": [],
   "source": [
    "df_doe.to_csv('doe_data_cleaned.csv')"
   ]
  },
  {
   "cell_type": "markdown",
   "id": "4fd72a82-8a00-4fd6-8b5d-6ea6a7c1fb15",
   "metadata": {},
   "source": [
    "## Step 2: Exploratory Data Analysis"
   ]
  },
  {
   "cell_type": "code",
   "execution_count": 36,
   "id": "f936dac8-2914-4df7-96f2-0c303dd024f7",
   "metadata": {},
   "outputs": [
    {
     "data": {
      "text/plain": [
       "(405, 5)"
      ]
     },
     "execution_count": 36,
     "metadata": {},
     "output_type": "execute_result"
    }
   ],
   "source": [
    "df_doe.shape"
   ]
  },
  {
   "cell_type": "code",
   "execution_count": 37,
   "id": "d4677670-cf1a-4378-b374-ce7d43d8bb4d",
   "metadata": {},
   "outputs": [
    {
     "data": {
      "text/html": [
       "<div>\n",
       "<style scoped>\n",
       "    .dataframe tbody tr th:only-of-type {\n",
       "        vertical-align: middle;\n",
       "    }\n",
       "\n",
       "    .dataframe tbody tr th {\n",
       "        vertical-align: top;\n",
       "    }\n",
       "\n",
       "    .dataframe thead th {\n",
       "        text-align: right;\n",
       "    }\n",
       "</style>\n",
       "<table border=\"1\" class=\"dataframe\">\n",
       "  <thead>\n",
       "    <tr style=\"text-align: right;\">\n",
       "      <th></th>\n",
       "      <th>score_math</th>\n",
       "      <th>female_pct</th>\n",
       "      <th>ell_pct</th>\n",
       "      <th>low_income_pct</th>\n",
       "      <th>stratio</th>\n",
       "    </tr>\n",
       "    <tr>\n",
       "      <th>district_code</th>\n",
       "      <th></th>\n",
       "      <th></th>\n",
       "      <th></th>\n",
       "      <th></th>\n",
       "      <th></th>\n",
       "    </tr>\n",
       "  </thead>\n",
       "  <tbody>\n",
       "    <tr>\n",
       "      <th>3360000</th>\n",
       "      <td>496.000000</td>\n",
       "      <td>49.0</td>\n",
       "      <td>4.0</td>\n",
       "      <td>27.0</td>\n",
       "      <td>14.0</td>\n",
       "    </tr>\n",
       "    <tr>\n",
       "      <th>2920000</th>\n",
       "      <td>498.000000</td>\n",
       "      <td>48.0</td>\n",
       "      <td>0.0</td>\n",
       "      <td>19.0</td>\n",
       "      <td>13.0</td>\n",
       "    </tr>\n",
       "    <tr>\n",
       "      <th>35010000</th>\n",
       "      <td>482.977865</td>\n",
       "      <td>55.0</td>\n",
       "      <td>13.0</td>\n",
       "      <td>72.0</td>\n",
       "      <td>11.0</td>\n",
       "    </tr>\n",
       "    <tr>\n",
       "      <th>30000</th>\n",
       "      <td>501.000000</td>\n",
       "      <td>48.0</td>\n",
       "      <td>1.0</td>\n",
       "      <td>23.0</td>\n",
       "      <td>13.0</td>\n",
       "    </tr>\n",
       "    <tr>\n",
       "      <th>70000</th>\n",
       "      <td>495.000000</td>\n",
       "      <td>47.0</td>\n",
       "      <td>1.0</td>\n",
       "      <td>22.0</td>\n",
       "      <td>12.0</td>\n",
       "    </tr>\n",
       "  </tbody>\n",
       "</table>\n",
       "</div>"
      ],
      "text/plain": [
       "               score_math  female_pct  ell_pct  low_income_pct  stratio\n",
       "district_code                                                          \n",
       "3360000        496.000000        49.0      4.0            27.0     14.0\n",
       "2920000        498.000000        48.0      0.0            19.0     13.0\n",
       "35010000       482.977865        55.0     13.0            72.0     11.0\n",
       "30000          501.000000        48.0      1.0            23.0     13.0\n",
       "70000          495.000000        47.0      1.0            22.0     12.0"
      ]
     },
     "execution_count": 37,
     "metadata": {},
     "output_type": "execute_result"
    }
   ],
   "source": [
    "df_doe.sample(5)"
   ]
  },
  {
   "cell_type": "code",
   "execution_count": 38,
   "id": "45f8aeab-2b90-4bdc-b12a-c797807e8367",
   "metadata": {},
   "outputs": [
    {
     "data": {
      "text/plain": [
       "Index(['score_math', 'female_pct', 'ell_pct', 'low_income_pct', 'stratio'], dtype='object')"
      ]
     },
     "execution_count": 38,
     "metadata": {},
     "output_type": "execute_result"
    }
   ],
   "source": [
    "df_doe.columns"
   ]
  },
  {
   "cell_type": "code",
   "execution_count": 39,
   "id": "a7487c1f-a9db-4534-a910-bb61b010a5b6",
   "metadata": {},
   "outputs": [
    {
     "data": {
      "text/html": [
       "<div>\n",
       "<style scoped>\n",
       "    .dataframe tbody tr th:only-of-type {\n",
       "        vertical-align: middle;\n",
       "    }\n",
       "\n",
       "    .dataframe tbody tr th {\n",
       "        vertical-align: top;\n",
       "    }\n",
       "\n",
       "    .dataframe thead th {\n",
       "        text-align: right;\n",
       "    }\n",
       "</style>\n",
       "<table border=\"1\" class=\"dataframe\">\n",
       "  <thead>\n",
       "    <tr style=\"text-align: right;\">\n",
       "      <th></th>\n",
       "      <th>score_math</th>\n",
       "      <th>female_pct</th>\n",
       "      <th>ell_pct</th>\n",
       "      <th>low_income_pct</th>\n",
       "      <th>stratio</th>\n",
       "    </tr>\n",
       "  </thead>\n",
       "  <tbody>\n",
       "    <tr>\n",
       "      <th>Type</th>\n",
       "      <td>float64</td>\n",
       "      <td>float64</td>\n",
       "      <td>float64</td>\n",
       "      <td>float64</td>\n",
       "      <td>float64</td>\n",
       "    </tr>\n",
       "  </tbody>\n",
       "</table>\n",
       "</div>"
      ],
      "text/plain": [
       "     score_math female_pct  ell_pct low_income_pct  stratio\n",
       "Type    float64    float64  float64        float64  float64"
      ]
     },
     "execution_count": 39,
     "metadata": {},
     "output_type": "execute_result"
    }
   ],
   "source": [
    "pd.DataFrame(df_doe.dtypes, columns=[\"Type\"]).T"
   ]
  },
  {
   "cell_type": "code",
   "execution_count": 40,
   "id": "9fe9cc78-7e0c-4348-b3c3-8e6520571bd6",
   "metadata": {},
   "outputs": [
    {
     "data": {
      "text/html": [
       "<div>\n",
       "<style scoped>\n",
       "    .dataframe tbody tr th:only-of-type {\n",
       "        vertical-align: middle;\n",
       "    }\n",
       "\n",
       "    .dataframe tbody tr th {\n",
       "        vertical-align: top;\n",
       "    }\n",
       "\n",
       "    .dataframe thead th {\n",
       "        text-align: right;\n",
       "    }\n",
       "</style>\n",
       "<table border=\"1\" class=\"dataframe\">\n",
       "  <thead>\n",
       "    <tr style=\"text-align: right;\">\n",
       "      <th></th>\n",
       "      <th>score_math</th>\n",
       "      <th>female_pct</th>\n",
       "      <th>ell_pct</th>\n",
       "      <th>low_income_pct</th>\n",
       "      <th>stratio</th>\n",
       "    </tr>\n",
       "  </thead>\n",
       "  <tbody>\n",
       "    <tr>\n",
       "      <th>count</th>\n",
       "      <td>405.000000</td>\n",
       "      <td>405.000000</td>\n",
       "      <td>405.000000</td>\n",
       "      <td>405.000000</td>\n",
       "      <td>405.000000</td>\n",
       "    </tr>\n",
       "    <tr>\n",
       "      <th>mean</th>\n",
       "      <td>498.802476</td>\n",
       "      <td>49.004384</td>\n",
       "      <td>6.246444</td>\n",
       "      <td>26.677788</td>\n",
       "      <td>12.308027</td>\n",
       "    </tr>\n",
       "    <tr>\n",
       "      <th>std</th>\n",
       "      <td>8.172675</td>\n",
       "      <td>3.432858</td>\n",
       "      <td>8.328560</td>\n",
       "      <td>17.337113</td>\n",
       "      <td>2.099057</td>\n",
       "    </tr>\n",
       "    <tr>\n",
       "      <th>min</th>\n",
       "      <td>475.000000</td>\n",
       "      <td>37.459574</td>\n",
       "      <td>0.000000</td>\n",
       "      <td>0.000000</td>\n",
       "      <td>5.457850</td>\n",
       "    </tr>\n",
       "    <tr>\n",
       "      <th>25%</th>\n",
       "      <td>493.065163</td>\n",
       "      <td>48.000000</td>\n",
       "      <td>1.000000</td>\n",
       "      <td>14.000000</td>\n",
       "      <td>11.000000</td>\n",
       "    </tr>\n",
       "    <tr>\n",
       "      <th>50%</th>\n",
       "      <td>499.000000</td>\n",
       "      <td>49.000000</td>\n",
       "      <td>3.000000</td>\n",
       "      <td>23.000000</td>\n",
       "      <td>12.000000</td>\n",
       "    </tr>\n",
       "    <tr>\n",
       "      <th>75%</th>\n",
       "      <td>505.000000</td>\n",
       "      <td>50.000000</td>\n",
       "      <td>8.000000</td>\n",
       "      <td>36.000000</td>\n",
       "      <td>14.000000</td>\n",
       "    </tr>\n",
       "    <tr>\n",
       "      <th>max</th>\n",
       "      <td>523.527983</td>\n",
       "      <td>60.619438</td>\n",
       "      <td>33.687090</td>\n",
       "      <td>78.752021</td>\n",
       "      <td>19.208817</td>\n",
       "    </tr>\n",
       "  </tbody>\n",
       "</table>\n",
       "</div>"
      ],
      "text/plain": [
       "       score_math  female_pct     ell_pct  low_income_pct     stratio\n",
       "count  405.000000  405.000000  405.000000      405.000000  405.000000\n",
       "mean   498.802476   49.004384    6.246444       26.677788   12.308027\n",
       "std      8.172675    3.432858    8.328560       17.337113    2.099057\n",
       "min    475.000000   37.459574    0.000000        0.000000    5.457850\n",
       "25%    493.065163   48.000000    1.000000       14.000000   11.000000\n",
       "50%    499.000000   49.000000    3.000000       23.000000   12.000000\n",
       "75%    505.000000   50.000000    8.000000       36.000000   14.000000\n",
       "max    523.527983   60.619438   33.687090       78.752021   19.208817"
      ]
     },
     "execution_count": 40,
     "metadata": {},
     "output_type": "execute_result"
    }
   ],
   "source": [
    "df_doe.describe()"
   ]
  },
  {
   "cell_type": "markdown",
   "id": "f8a34a03-eeb4-4464-9b7f-dcfdfc770753",
   "metadata": {},
   "source": [
    "With regards to the Math MSAC Scores, students scoring 440-469 do not meet expectations, students partially meeting expectations score 470-499, students meeting expectations score 500-529, and students exceeding expectations score 530-560."
   ]
  },
  {
   "cell_type": "markdown",
   "id": "d12ea46f-bee3-4f5b-8167-1167ec6cfaed",
   "metadata": {},
   "source": [
    "Here, **Math MSAC** scores range from 475 to 523 with an average score of 498.80, which means that, on average, school districts don't fully meet math expectations, again highlighting the importance of this analysis."
   ]
  },
  {
   "cell_type": "markdown",
   "id": "f52853b7-4258-4cae-9555-4c5472e83052",
   "metadata": {},
   "source": [
    "The scores for **gender** range from 37% to 61% female, whereas they are strongly scattered around the mean of approximately 50%."
   ]
  },
  {
   "cell_type": "markdown",
   "id": "7f639df8-a169-4edd-868d-e8b60c48ce1f",
   "metadata": {},
   "source": [
    "The scores for **English Language Learners** ranges from 0 to 34 with a mean of 6. Previously, there were extreme outliers in the data which should be considered during the interpretation of further analyses."
   ]
  },
  {
   "cell_type": "markdown",
   "id": "826d47c0-b4bb-4098-a1c6-86a9a259e693",
   "metadata": {},
   "source": [
    "Between 0% to 79% of students come from a **low income household**, with an average of 27%."
   ]
  },
  {
   "cell_type": "markdown",
   "id": "97836031-a6e5-4538-9705-23d1cc25d8dd",
   "metadata": {},
   "source": [
    "The average **student-to-teacher ratio** ranges from 5 to 19 with an average of 12."
   ]
  },
  {
   "cell_type": "code",
   "execution_count": 41,
   "id": "7a6b0f29-7c7b-432c-8755-da715ae13622",
   "metadata": {},
   "outputs": [
    {
     "data": {
      "image/png": "[encoded data removed]",
      "text/plain": [
       "<Figure size 1152x576 with 6 Axes>"
      ]
     },
     "metadata": {
      "needs_background": "light"
     },
     "output_type": "display_data"
    }
   ],
   "source": [
    "df_doe.hist(figsize=(16,8));"
   ]
  },
  {
   "cell_type": "markdown",
   "id": "19780480-2afa-4283-9d62-2fd956e501dd",
   "metadata": {},
   "source": [
    "From the histograms, we can already see that both **ell_pct** and **low_income_pct** are positively skewed. **Stratio** may be negatively skewed, whereas the other two variables are relatively normal distributed."
   ]
  },
  {
   "cell_type": "code",
   "execution_count": 42,
   "id": "cf413710-be3f-40d3-9471-3b6e26d07f9c",
   "metadata": {},
   "outputs": [
    {
     "data": {
      "image/png": "[encoded data removed]",
      "text/plain": [
       "<Figure size 432x288 with 1 Axes>"
      ]
     },
     "metadata": {
      "needs_background": "light"
     },
     "output_type": "display_data"
    }
   ],
   "source": [
    "df_doe.score_math.plot(kind='density', xlim=(450, 550));"
   ]
  },
  {
   "cell_type": "code",
   "execution_count": 43,
   "id": "5f0aaca6-3417-47f6-a0c8-17c62e623efd",
   "metadata": {},
   "outputs": [
    {
     "data": {
      "image/png": "[encoded data removed]",
      "text/plain": [
       "<Figure size 432x288 with 1 Axes>"
      ]
     },
     "metadata": {
      "needs_background": "light"
     },
     "output_type": "display_data"
    }
   ],
   "source": [
    "df_doe.ell_pct.plot(kind='density', xlim=(0, 60));"
   ]
  },
  {
   "cell_type": "code",
   "execution_count": 44,
   "id": "48dcbd9b-cd00-459f-9680-0895d0f1676b",
   "metadata": {},
   "outputs": [
    {
     "data": {
      "image/png": "[encoded data removed]",
      "text/plain": [
       "<Figure size 432x288 with 1 Axes>"
      ]
     },
     "metadata": {
      "needs_background": "light"
     },
     "output_type": "display_data"
    }
   ],
   "source": [
    "df_doe.stratio.plot(kind='density', xlim=(0, 30));"
   ]
  },
  {
   "cell_type": "code",
   "execution_count": 45,
   "id": "966189e3-1d24-4efb-af7d-1a4f91dcd67d",
   "metadata": {},
   "outputs": [
    {
     "data": {
      "image/png": "[encoded data removed]",
      "text/plain": [
       "<Figure size 432x288 with 1 Axes>"
      ]
     },
     "metadata": {
      "needs_background": "light"
     },
     "output_type": "display_data"
    }
   ],
   "source": [
    "df_doe.female_pct.plot(kind='density', xlim=(20, 80));"
   ]
  },
  {
   "cell_type": "code",
   "execution_count": 46,
   "id": "0c59f89f-61d3-4acf-94d0-6aa0c9cd1b95",
   "metadata": {},
   "outputs": [
    {
     "data": {
      "image/png": "[encoded data removed]",
      "text/plain": [
       "<Figure size 432x288 with 1 Axes>"
      ]
     },
     "metadata": {
      "needs_background": "light"
     },
     "output_type": "display_data"
    }
   ],
   "source": [
    "df_doe.low_income_pct.plot(kind='density', xlim=(0, 100));"
   ]
  },
  {
   "cell_type": "code",
   "execution_count": 47,
   "id": "aec59c40-4022-4a54-ba8f-a6b2601d5400",
   "metadata": {},
   "outputs": [
    {
     "data": {
      "image/png": "[encoded data removed]",
      "text/plain": [
       "<Figure size 432x288 with 1 Axes>"
      ]
     },
     "metadata": {
      "needs_background": "light"
     },
     "output_type": "display_data"
    }
   ],
   "source": [
    "df_doe.score_math.plot(kind=\"box\");"
   ]
  },
  {
   "cell_type": "code",
   "execution_count": 48,
   "id": "7867bb2d-b561-4f90-8f7e-da0ae98bc188",
   "metadata": {},
   "outputs": [
    {
     "data": {
      "text/html": [
       "<div>\n",
       "<style scoped>\n",
       "    .dataframe tbody tr th:only-of-type {\n",
       "        vertical-align: middle;\n",
       "    }\n",
       "\n",
       "    .dataframe tbody tr th {\n",
       "        vertical-align: top;\n",
       "    }\n",
       "\n",
       "    .dataframe thead th {\n",
       "        text-align: right;\n",
       "    }\n",
       "</style>\n",
       "<table border=\"1\" class=\"dataframe\">\n",
       "  <thead>\n",
       "    <tr style=\"text-align: right;\">\n",
       "      <th></th>\n",
       "      <th>score_math</th>\n",
       "      <th>female_pct</th>\n",
       "      <th>ell_pct</th>\n",
       "      <th>low_income_pct</th>\n",
       "      <th>stratio</th>\n",
       "    </tr>\n",
       "  </thead>\n",
       "  <tbody>\n",
       "    <tr>\n",
       "      <th>score_math</th>\n",
       "      <td>1.000000</td>\n",
       "      <td>0.050514</td>\n",
       "      <td>-0.282562</td>\n",
       "      <td>-0.693170</td>\n",
       "      <td>0.013213</td>\n",
       "    </tr>\n",
       "    <tr>\n",
       "      <th>female_pct</th>\n",
       "      <td>0.050514</td>\n",
       "      <td>1.000000</td>\n",
       "      <td>0.068782</td>\n",
       "      <td>0.035466</td>\n",
       "      <td>0.135823</td>\n",
       "    </tr>\n",
       "    <tr>\n",
       "      <th>ell_pct</th>\n",
       "      <td>-0.282562</td>\n",
       "      <td>0.068782</td>\n",
       "      <td>1.000000</td>\n",
       "      <td>0.661230</td>\n",
       "      <td>0.046204</td>\n",
       "    </tr>\n",
       "    <tr>\n",
       "      <th>low_income_pct</th>\n",
       "      <td>-0.693170</td>\n",
       "      <td>0.035466</td>\n",
       "      <td>0.661230</td>\n",
       "      <td>1.000000</td>\n",
       "      <td>-0.013753</td>\n",
       "    </tr>\n",
       "    <tr>\n",
       "      <th>stratio</th>\n",
       "      <td>0.013213</td>\n",
       "      <td>0.135823</td>\n",
       "      <td>0.046204</td>\n",
       "      <td>-0.013753</td>\n",
       "      <td>1.000000</td>\n",
       "    </tr>\n",
       "  </tbody>\n",
       "</table>\n",
       "</div>"
      ],
      "text/plain": [
       "                score_math  female_pct   ell_pct  low_income_pct   stratio\n",
       "score_math        1.000000    0.050514 -0.282562       -0.693170  0.013213\n",
       "female_pct        0.050514    1.000000  0.068782        0.035466  0.135823\n",
       "ell_pct          -0.282562    0.068782  1.000000        0.661230  0.046204\n",
       "low_income_pct   -0.693170    0.035466  0.661230        1.000000 -0.013753\n",
       "stratio           0.013213    0.135823  0.046204       -0.013753  1.000000"
      ]
     },
     "execution_count": 48,
     "metadata": {},
     "output_type": "execute_result"
    }
   ],
   "source": [
    "df_doe.corr()"
   ]
  },
  {
   "cell_type": "code",
   "execution_count": 49,
   "id": "209495a3-310f-4b77-8634-a5c4cbc36f91",
   "metadata": {},
   "outputs": [
    {
     "data": {
      "image/png": "[encoded data removed]",
      "text/plain": [
       "<Figure size 432x288 with 2 Axes>"
      ]
     },
     "metadata": {
      "needs_background": "light"
     },
     "output_type": "display_data"
    }
   ],
   "source": [
    "sns.heatmap(df_doe.corr());"
   ]
  },
  {
   "cell_type": "markdown",
   "id": "12a657f8-7069-47da-b5f1-97ab8ef4ec5f",
   "metadata": {},
   "source": [
    "We can already identify a very strong negative correlation between **score_math** and **low_income_pct**."
   ]
  },
  {
   "cell_type": "code",
   "execution_count": 50,
   "id": "217747f4-cf4e-4754-a1f6-8b2b94fc180b",
   "metadata": {},
   "outputs": [
    {
     "data": {
      "image/png": "[encoded data removed]",
      "text/plain": [
       "<Figure size 900x900 with 30 Axes>"
      ]
     },
     "metadata": {
      "needs_background": "light"
     },
     "output_type": "display_data"
    }
   ],
   "source": [
    "sns.pairplot(df_doe);"
   ]
  },
  {
   "cell_type": "markdown",
   "id": "e274c53c-698e-4bd1-ae30-a3438c5e77c6",
   "metadata": {
    "tags": []
   },
   "source": [
    "## Step 3: Multiple Regression (Statsmodels)"
   ]
  },
  {
   "cell_type": "markdown",
   "id": "2cc5c483-2a82-493a-ae55-5a59854cc1a5",
   "metadata": {},
   "source": [
    "#### Assign dependent/predictor variables:"
   ]
  },
  {
   "cell_type": "code",
   "execution_count": 51,
   "id": "57ddf2cc-c1fe-4ed9-8721-14509082eb84",
   "metadata": {},
   "outputs": [],
   "source": [
    "X = df_doe.drop(\"score_math\", axis=1)\n",
    "X = np.concatenate([X, np.ones((X.shape[0], 1))], axis=1)"
   ]
  },
  {
   "cell_type": "markdown",
   "id": "dd4b8885-6e92-4688-8a49-5a45d200b0d0",
   "metadata": {},
   "source": [
    "#### Assign independent/outcome variable:"
   ]
  },
  {
   "cell_type": "code",
   "execution_count": 52,
   "id": "bf0923a5-b36f-4f57-bbb7-a2fc0c68502f",
   "metadata": {},
   "outputs": [],
   "source": [
    "y = df_doe[\"score_math\"].values"
   ]
  },
  {
   "cell_type": "markdown",
   "id": "4fe00c69-1878-43d4-864f-e4008c182b14",
   "metadata": {},
   "source": [
    "#### Run the model:"
   ]
  },
  {
   "cell_type": "code",
   "execution_count": 53,
   "id": "784960a8-92d0-41bf-a79a-6703626e4a87",
   "metadata": {},
   "outputs": [],
   "source": [
    "model = sm.OLS(y, X)\n",
    "model = model.fit()\n",
    "predictions = model.predict(X)"
   ]
  },
  {
   "cell_type": "markdown",
   "id": "d0baa976-5fcd-4cbc-ac62-1991eea8765d",
   "metadata": {},
   "source": [
    "#### Scatterplot:"
   ]
  },
  {
   "cell_type": "code",
   "execution_count": 54,
   "id": "a6442be8-9767-4c2a-8e19-b794fda5e906",
   "metadata": {},
   "outputs": [
    {
     "data": {
      "image/png": "[encoded data removed]",
      "text/plain": [
       "<Figure size 864x720 with 1 Axes>"
      ]
     },
     "metadata": {
      "needs_background": "light"
     },
     "output_type": "display_data"
    }
   ],
   "source": [
    "chart_xlim = 40\n",
    "chart_ylim = 55\n",
    "\n",
    "plt.figure(figsize=(12,10))\n",
    "plt.scatter(predictions, y, s=40, marker='v', zorder=10)\n",
    "plt.xlabel(\"Predicted Values - $\\hat{y}$\")\n",
    "plt.ylabel(\"Actual Values - $y$\")\n",
    "\n",
    "axes = plt.gca()\n",
    "axes.set_xlim([475,515])\n",
    "axes.set_ylim([470,525])\n",
    "\n",
    "plt.plot(range(0,600), range(0,600), c=(0,0.4,0,0.5))\n",
    "\n",
    "plt.show();"
   ]
  },
  {
   "cell_type": "markdown",
   "id": "9a040d33-1352-409c-b0ae-fce48c137c39",
   "metadata": {},
   "source": [
    "In the scatterplot, we see the comparison of the actual values and the predicted values. Most of the datapoints are nicely scattered around the line, which confirms the predictive utility of the model."
   ]
  },
  {
   "cell_type": "markdown",
   "id": "4ca7459e-dd43-4614-bbbb-ef9b89273123",
   "metadata": {},
   "source": [
    "#### Model Paramters:"
   ]
  },
  {
   "cell_type": "code",
   "execution_count": 55,
   "id": "b29dfbc2-5fa8-46f2-b681-fe216d799ef8",
   "metadata": {},
   "outputs": [
    {
     "data": {
      "text/plain": [
       "[('female_pct', 0.15279198073435607),\n",
       " ('ell_pct', 0.3035699432425836),\n",
       " ('low_income_pct', -0.4244038539377776),\n",
       " ('stratio', -0.08635822340341104)]"
      ]
     },
     "execution_count": 55,
     "metadata": {},
     "output_type": "execute_result"
    }
   ],
   "source": [
    "list(zip(df_doe.drop(\"score_math\", axis=1).columns, model.params))"
   ]
  },
  {
   "cell_type": "markdown",
   "id": "b1f81028-d958-4690-af10-9a65ac378129",
   "metadata": {},
   "source": [
    "The regression coefficients present the slope of the relationship between the outcome variable and the part of the independent variable that is uncorrelated with the other independent variables."
   ]
  },
  {
   "cell_type": "markdown",
   "id": "05965508-5164-488f-920b-b3ac952f4cdb",
   "metadata": {},
   "source": [
    "#### Model Summary:"
   ]
  },
  {
   "cell_type": "code",
   "execution_count": 56,
   "id": "73c5bf69-9b13-483f-9de6-fdc6664bad52",
   "metadata": {},
   "outputs": [
    {
     "data": {
      "text/html": [
       "<table class=\"simpletable\">\n",
       "<caption>OLS Regression Results</caption>\n",
       "<tr>\n",
       "  <th>Dep. Variable:</th>            <td>y</td>        <th>  R-squared:         </th> <td>   0.540</td>\n",
       "</tr>\n",
       "<tr>\n",
       "  <th>Model:</th>                   <td>OLS</td>       <th>  Adj. R-squared:    </th> <td>   0.535</td>\n",
       "</tr>\n",
       "<tr>\n",
       "  <th>Method:</th>             <td>Least Squares</td>  <th>  F-statistic:       </th> <td>   117.2</td>\n",
       "</tr>\n",
       "<tr>\n",
       "  <th>Date:</th>             <td>Wed, 07 Dec 2022</td> <th>  Prob (F-statistic):</th> <td>4.61e-66</td>\n",
       "</tr>\n",
       "<tr>\n",
       "  <th>Time:</th>                 <td>14:03:58</td>     <th>  Log-Likelihood:    </th> <td> -1267.9</td>\n",
       "</tr>\n",
       "<tr>\n",
       "  <th>No. Observations:</th>      <td>   405</td>      <th>  AIC:               </th> <td>   2546.</td>\n",
       "</tr>\n",
       "<tr>\n",
       "  <th>Df Residuals:</th>          <td>   400</td>      <th>  BIC:               </th> <td>   2566.</td>\n",
       "</tr>\n",
       "<tr>\n",
       "  <th>Df Model:</th>              <td>     4</td>      <th>                     </th>     <td> </td>   \n",
       "</tr>\n",
       "<tr>\n",
       "  <th>Covariance Type:</th>      <td>nonrobust</td>    <th>                     </th>     <td> </td>   \n",
       "</tr>\n",
       "</table>\n",
       "<table class=\"simpletable\">\n",
       "<tr>\n",
       "         <td></td>           <th>coef</th>     <th>std err</th>      <th>t</th>      <th>P>|t|</th>  <th>[0.025</th>    <th>0.975]</th>  \n",
       "</tr>\n",
       "<tr>\n",
       "  <th>female_pct</th>     <td>    0.1528</td> <td>    0.082</td> <td>    1.870</td> <td> 0.062</td> <td>   -0.008</td> <td>    0.313</td>\n",
       "</tr>\n",
       "<tr>\n",
       "  <th>ell_pct</th>        <td>    0.3036</td> <td>    0.045</td> <td>    6.813</td> <td> 0.000</td> <td>    0.216</td> <td>    0.391</td>\n",
       "</tr>\n",
       "<tr>\n",
       "  <th>low_income_pct</th> <td>   -0.4244</td> <td>    0.021</td> <td>  -19.873</td> <td> 0.000</td> <td>   -0.466</td> <td>   -0.382</td>\n",
       "</tr>\n",
       "<tr>\n",
       "  <th>stratio</th>        <td>   -0.0864</td> <td>    0.134</td> <td>   -0.646</td> <td> 0.519</td> <td>   -0.349</td> <td>    0.176</td>\n",
       "</tr>\n",
       "<tr>\n",
       "  <th>y_intercept</th>    <td>  501.8038</td> <td>    4.149</td> <td>  120.949</td> <td> 0.000</td> <td>  493.647</td> <td>  509.960</td>\n",
       "</tr>\n",
       "</table>\n",
       "<table class=\"simpletable\">\n",
       "<tr>\n",
       "  <th>Omnibus:</th>       <td>46.979</td> <th>  Durbin-Watson:     </th> <td>   1.794</td>\n",
       "</tr>\n",
       "<tr>\n",
       "  <th>Prob(Omnibus):</th> <td> 0.000</td> <th>  Jarque-Bera (JB):  </th> <td> 103.435</td>\n",
       "</tr>\n",
       "<tr>\n",
       "  <th>Skew:</th>          <td> 0.620</td> <th>  Prob(JB):          </th> <td>3.46e-23</td>\n",
       "</tr>\n",
       "<tr>\n",
       "  <th>Kurtosis:</th>      <td> 5.143</td> <th>  Cond. No.          </th> <td>    873.</td>\n",
       "</tr>\n",
       "</table><br/><br/>Notes:<br/>[1] Standard Errors assume that the covariance matrix of the errors is correctly specified."
      ],
      "text/plain": [
       "<class 'statsmodels.iolib.summary.Summary'>\n",
       "\"\"\"\n",
       "                            OLS Regression Results                            \n",
       "==============================================================================\n",
       "Dep. Variable:                      y   R-squared:                       0.540\n",
       "Model:                            OLS   Adj. R-squared:                  0.535\n",
       "Method:                 Least Squares   F-statistic:                     117.2\n",
       "Date:                Wed, 07 Dec 2022   Prob (F-statistic):           4.61e-66\n",
       "Time:                        14:03:58   Log-Likelihood:                -1267.9\n",
       "No. Observations:                 405   AIC:                             2546.\n",
       "Df Residuals:                     400   BIC:                             2566.\n",
       "Df Model:                           4                                         \n",
       "Covariance Type:            nonrobust                                         \n",
       "==================================================================================\n",
       "                     coef    std err          t      P>|t|      [0.025      0.975]\n",
       "----------------------------------------------------------------------------------\n",
       "female_pct         0.1528      0.082      1.870      0.062      -0.008       0.313\n",
       "ell_pct            0.3036      0.045      6.813      0.000       0.216       0.391\n",
       "low_income_pct    -0.4244      0.021    -19.873      0.000      -0.466      -0.382\n",
       "stratio           -0.0864      0.134     -0.646      0.519      -0.349       0.176\n",
       "y_intercept      501.8038      4.149    120.949      0.000     493.647     509.960\n",
       "==============================================================================\n",
       "Omnibus:                       46.979   Durbin-Watson:                   1.794\n",
       "Prob(Omnibus):                  0.000   Jarque-Bera (JB):              103.435\n",
       "Skew:                           0.620   Prob(JB):                     3.46e-23\n",
       "Kurtosis:                       5.143   Cond. No.                         873.\n",
       "==============================================================================\n",
       "\n",
       "Notes:\n",
       "[1] Standard Errors assume that the covariance matrix of the errors is correctly specified.\n",
       "\"\"\""
      ]
     },
     "execution_count": 56,
     "metadata": {},
     "output_type": "execute_result"
    }
   ],
   "source": [
    "col_names = list(df_doe.drop(\"score_math\", axis=1).columns) + ['y_intercept']\n",
    "model.summary(xname=col_names)"
   ]
  },
  {
   "cell_type": "markdown",
   "id": "9b363aea-3fd2-4399-af13-a22b9fee6f53",
   "metadata": {
    "tags": []
   },
   "source": [
    "#### Semi-Partial Correlations:"
   ]
  },
  {
   "cell_type": "code",
   "execution_count": 57,
   "id": "9b1f6157-e710-4c28-b96c-9c96b4421aa6",
   "metadata": {},
   "outputs": [],
   "source": [
    "df_sempart_female_pct = pg.partial_corr(data=df_doe, x='female_pct', y='score_math', x_covar=['ell_pct', 'low_income_pct', 'stratio'])\n",
    "df_sempart_female_pct.rename(index={'pearson': 'female_pct'}, inplace=True)\n",
    "df_sempart_ell_pct = pg.partial_corr(data=df_doe, x='ell_pct', y='score_math', x_covar=['female_pct', 'low_income_pct', 'stratio'])\n",
    "df_sempart_ell_pct.rename(index={'pearson': 'ell_pct'}, inplace=True)\n",
    "df_sempart_low_income_pct = pg.partial_corr(data=df_doe, x='low_income_pct', y='score_math', x_covar=['female_pct', 'ell_pct', 'stratio'])\n",
    "df_sempart_low_income_pct.rename(index={'pearson': 'low_income_pct'}, inplace=True)\n",
    "df_sempart_stratio = pg.partial_corr(data=df_doe, x='stratio', y='score_math', x_covar=['female_pct', 'low_income_pct', 'low_income_pct'])\n",
    "df_sempart_stratio.rename(index={'pearson': 'stratio'}, inplace=True)\n",
    "df_sempart = pd.concat([df_sempart_female_pct, df_sempart_ell_pct, df_sempart_low_income_pct, df_sempart_stratio], axis=0)"
   ]
  },
  {
   "cell_type": "code",
   "execution_count": 58,
   "id": "ba4412e4-f20c-4eaf-a3d8-56e97e1da81c",
   "metadata": {},
   "outputs": [
    {
     "data": {
      "text/html": [
       "<div>\n",
       "<style scoped>\n",
       "    .dataframe tbody tr th:only-of-type {\n",
       "        vertical-align: middle;\n",
       "    }\n",
       "\n",
       "    .dataframe tbody tr th {\n",
       "        vertical-align: top;\n",
       "    }\n",
       "\n",
       "    .dataframe thead th {\n",
       "        text-align: right;\n",
       "    }\n",
       "</style>\n",
       "<table border=\"1\" class=\"dataframe\">\n",
       "  <thead>\n",
       "    <tr style=\"text-align: right;\">\n",
       "      <th></th>\n",
       "      <th>n</th>\n",
       "      <th>r</th>\n",
       "      <th>CI95%</th>\n",
       "      <th>p-val</th>\n",
       "    </tr>\n",
       "  </thead>\n",
       "  <tbody>\n",
       "    <tr>\n",
       "      <th>female_pct</th>\n",
       "      <td>405</td>\n",
       "      <td>0.063456</td>\n",
       "      <td>[-0.03, 0.16]</td>\n",
       "      <td>2.042230e-01</td>\n",
       "    </tr>\n",
       "    <tr>\n",
       "      <th>ell_pct</th>\n",
       "      <td>405</td>\n",
       "      <td>0.231144</td>\n",
       "      <td>[0.14, 0.32]</td>\n",
       "      <td>2.819274e-06</td>\n",
       "    </tr>\n",
       "    <tr>\n",
       "      <th>low_income_pct</th>\n",
       "      <td>405</td>\n",
       "      <td>-0.674205</td>\n",
       "      <td>[-0.72, -0.62]</td>\n",
       "      <td>1.321579e-54</td>\n",
       "    </tr>\n",
       "    <tr>\n",
       "      <th>stratio</th>\n",
       "      <td>405</td>\n",
       "      <td>-0.006633</td>\n",
       "      <td>[-0.1, 0.09]</td>\n",
       "      <td>8.945292e-01</td>\n",
       "    </tr>\n",
       "  </tbody>\n",
       "</table>\n",
       "</div>"
      ],
      "text/plain": [
       "                  n         r           CI95%         p-val\n",
       "female_pct      405  0.063456   [-0.03, 0.16]  2.042230e-01\n",
       "ell_pct         405  0.231144    [0.14, 0.32]  2.819274e-06\n",
       "low_income_pct  405 -0.674205  [-0.72, -0.62]  1.321579e-54\n",
       "stratio         405 -0.006633    [-0.1, 0.09]  8.945292e-01"
      ]
     },
     "execution_count": 58,
     "metadata": {},
     "output_type": "execute_result"
    }
   ],
   "source": [
    "df_sempart"
   ]
  },
  {
   "cell_type": "markdown",
   "id": "2893ecbb-f808-4692-99e5-96c985940d7c",
   "metadata": {},
   "source": [
    "A semi-partial correlation is the correlation coefficient between the dependent variable and a given independent variable after controlling for the relationship between the DV and other IVs in the model."
   ]
  },
  {
   "cell_type": "markdown",
   "id": "e9b53fbd-5fc8-4776-8849-97e41335e4a7",
   "metadata": {
    "tags": []
   },
   "source": [
    "## Step 3: Multiple Regression with Standardized Values (Statsmodels)"
   ]
  },
  {
   "cell_type": "markdown",
   "id": "91738cc6-58df-4fd3-a42f-6ec9a367b646",
   "metadata": {},
   "source": [
    "Here, I standardize the values which allows us to better compare the effect of each independent variable:"
   ]
  },
  {
   "cell_type": "code",
   "execution_count": 59,
   "id": "41654d2b-c6c9-4e38-bdc9-6990d2193270",
   "metadata": {},
   "outputs": [],
   "source": [
    "df_doe = df_doe.apply(stats.zscore)"
   ]
  },
  {
   "cell_type": "markdown",
   "id": "0d927ddd-b5ce-4456-92e1-de3c4fbdbe63",
   "metadata": {},
   "source": [
    "#### Assign dependent/predictor variables:"
   ]
  },
  {
   "cell_type": "code",
   "execution_count": 60,
   "id": "9e35c0b0-c763-48e5-86c8-fb470da27cbd",
   "metadata": {},
   "outputs": [],
   "source": [
    "X = df_doe.drop(\"score_math\", axis=1)\n",
    "X = np.concatenate([X, np.ones((X.shape[0], 1))], axis=1)"
   ]
  },
  {
   "cell_type": "markdown",
   "id": "c1977d78-d416-4f11-8a51-3ed1ef7e3097",
   "metadata": {},
   "source": [
    "#### Assign independent/outcome variable:"
   ]
  },
  {
   "cell_type": "code",
   "execution_count": 61,
   "id": "64e03b38-8835-43ca-8704-a98ad34c7e30",
   "metadata": {},
   "outputs": [],
   "source": [
    "y = df_doe[\"score_math\"].values"
   ]
  },
  {
   "cell_type": "markdown",
   "id": "abb76307-d393-4734-891d-efbe85ab23fd",
   "metadata": {},
   "source": [
    "#### Run the model:"
   ]
  },
  {
   "cell_type": "code",
   "execution_count": 62,
   "id": "f3191f06-7bdc-4ef7-b879-856a7f3d92d9",
   "metadata": {},
   "outputs": [],
   "source": [
    "model = sm.OLS(y, X)\n",
    "model = model.fit()\n",
    "predictions = model.predict(X)"
   ]
  },
  {
   "cell_type": "markdown",
   "id": "8162e289-020e-4b8f-b528-1d0df3ad62af",
   "metadata": {
    "jp-MarkdownHeadingCollapsed": true,
    "tags": []
   },
   "source": [
    "#### Scatterplot:"
   ]
  },
  {
   "cell_type": "code",
   "execution_count": 63,
   "id": "5d60d362-2a25-4d4b-b2f3-8e9c2e2b5957",
   "metadata": {},
   "outputs": [
    {
     "data": {
      "image/png": "[encoded data removed]",
      "text/plain": [
       "<Figure size 864x720 with 1 Axes>"
      ]
     },
     "metadata": {
      "needs_background": "light"
     },
     "output_type": "display_data"
    }
   ],
   "source": [
    "chart_xlim = 5\n",
    "chart_ylim = 6.5\n",
    "\n",
    "plt.figure(figsize=(12,10))\n",
    "plt.scatter(predictions, y, s=40, marker='v', zorder=10)\n",
    "plt.xlabel(\"Predicted Values - $\\hat{y}$\")\n",
    "plt.ylabel(\"Actual Values - $y$\")\n",
    "\n",
    "axes = plt.gca()\n",
    "axes.set_xlim([-3,2])\n",
    "axes.set_ylim([-3.5,3])\n",
    "\n",
    "plt.plot(range(-5,5), range(-5,5), c=(0,0.4,0,0.5))\n",
    "\n",
    "plt.show();"
   ]
  },
  {
   "cell_type": "markdown",
   "id": "dc38adb0-a45e-415d-9da8-329708e41745",
   "metadata": {},
   "source": [
    "#### Model Paramters:"
   ]
  },
  {
   "cell_type": "code",
   "execution_count": 64,
   "id": "ece06237-b0a0-47fd-9a15-b148aa5943b5",
   "metadata": {},
   "outputs": [
    {
     "data": {
      "text/plain": [
       "[('female_pct', 0.06417889580020536),\n",
       " ('ell_pct', 0.3093602432967595),\n",
       " ('low_income_pct', -0.900309614292359),\n",
       " ('stratio', -0.022180115634874563)]"
      ]
     },
     "execution_count": 64,
     "metadata": {},
     "output_type": "execute_result"
    }
   ],
   "source": [
    "list(zip(df_doe.drop(\"score_math\", axis=1).columns, model.params))"
   ]
  },
  {
   "cell_type": "markdown",
   "id": "4dd1c5e9-5659-4012-a958-eff73c177a70",
   "metadata": {},
   "source": [
    "These are the standardized regression coefficients, which means that the influence of the range of possible scores is removed statistically. We can already see that the coefficient of **low_income_pct** has the greatest magnitude and therefore plays a greater role in explaining **score_math**."
   ]
  },
  {
   "cell_type": "markdown",
   "id": "6e9cc19d-9a1f-40e7-bed4-965c891bcb75",
   "metadata": {
    "jp-MarkdownHeadingCollapsed": true,
    "tags": []
   },
   "source": [
    "#### Model Summary:"
   ]
  },
  {
   "cell_type": "code",
   "execution_count": 65,
   "id": "df4637f8-339c-47fb-9531-27d64ee90bee",
   "metadata": {},
   "outputs": [
    {
     "data": {
      "text/html": [
       "<table class=\"simpletable\">\n",
       "<caption>OLS Regression Results</caption>\n",
       "<tr>\n",
       "  <th>Dep. Variable:</th>            <td>y</td>        <th>  R-squared:         </th> <td>   0.540</td>\n",
       "</tr>\n",
       "<tr>\n",
       "  <th>Model:</th>                   <td>OLS</td>       <th>  Adj. R-squared:    </th> <td>   0.535</td>\n",
       "</tr>\n",
       "<tr>\n",
       "  <th>Method:</th>             <td>Least Squares</td>  <th>  F-statistic:       </th> <td>   117.2</td>\n",
       "</tr>\n",
       "<tr>\n",
       "  <th>Date:</th>             <td>Wed, 07 Dec 2022</td> <th>  Prob (F-statistic):</th> <td>4.61e-66</td>\n",
       "</tr>\n",
       "<tr>\n",
       "  <th>Time:</th>                 <td>14:03:58</td>     <th>  Log-Likelihood:    </th> <td> -417.60</td>\n",
       "</tr>\n",
       "<tr>\n",
       "  <th>No. Observations:</th>      <td>   405</td>      <th>  AIC:               </th> <td>   845.2</td>\n",
       "</tr>\n",
       "<tr>\n",
       "  <th>Df Residuals:</th>          <td>   400</td>      <th>  BIC:               </th> <td>   865.2</td>\n",
       "</tr>\n",
       "<tr>\n",
       "  <th>Df Model:</th>              <td>     4</td>      <th>                     </th>     <td> </td>   \n",
       "</tr>\n",
       "<tr>\n",
       "  <th>Covariance Type:</th>      <td>nonrobust</td>    <th>                     </th>     <td> </td>   \n",
       "</tr>\n",
       "</table>\n",
       "<table class=\"simpletable\">\n",
       "<tr>\n",
       "         <td></td>           <th>coef</th>     <th>std err</th>      <th>t</th>      <th>P>|t|</th>  <th>[0.025</th>    <th>0.975]</th>  \n",
       "</tr>\n",
       "<tr>\n",
       "  <th>female_pct</th>     <td>    0.0642</td> <td>    0.034</td> <td>    1.870</td> <td> 0.062</td> <td>   -0.003</td> <td>    0.132</td>\n",
       "</tr>\n",
       "<tr>\n",
       "  <th>ell_pct</th>        <td>    0.3094</td> <td>    0.045</td> <td>    6.813</td> <td> 0.000</td> <td>    0.220</td> <td>    0.399</td>\n",
       "</tr>\n",
       "<tr>\n",
       "  <th>low_income_pct</th> <td>   -0.9003</td> <td>    0.045</td> <td>  -19.873</td> <td> 0.000</td> <td>   -0.989</td> <td>   -0.811</td>\n",
       "</tr>\n",
       "<tr>\n",
       "  <th>stratio</th>        <td>   -0.0222</td> <td>    0.034</td> <td>   -0.646</td> <td> 0.519</td> <td>   -0.090</td> <td>    0.045</td>\n",
       "</tr>\n",
       "<tr>\n",
       "  <th>y_intercept</th>    <td> 3.445e-15</td> <td>    0.034</td> <td> 1.02e-13</td> <td> 1.000</td> <td>   -0.067</td> <td>    0.067</td>\n",
       "</tr>\n",
       "</table>\n",
       "<table class=\"simpletable\">\n",
       "<tr>\n",
       "  <th>Omnibus:</th>       <td>46.979</td> <th>  Durbin-Watson:     </th> <td>   1.794</td>\n",
       "</tr>\n",
       "<tr>\n",
       "  <th>Prob(Omnibus):</th> <td> 0.000</td> <th>  Jarque-Bera (JB):  </th> <td> 103.435</td>\n",
       "</tr>\n",
       "<tr>\n",
       "  <th>Skew:</th>          <td> 0.620</td> <th>  Prob(JB):          </th> <td>3.46e-23</td>\n",
       "</tr>\n",
       "<tr>\n",
       "  <th>Kurtosis:</th>      <td> 5.143</td> <th>  Cond. No.          </th> <td>    2.23</td>\n",
       "</tr>\n",
       "</table><br/><br/>Notes:<br/>[1] Standard Errors assume that the covariance matrix of the errors is correctly specified."
      ],
      "text/plain": [
       "<class 'statsmodels.iolib.summary.Summary'>\n",
       "\"\"\"\n",
       "                            OLS Regression Results                            \n",
       "==============================================================================\n",
       "Dep. Variable:                      y   R-squared:                       0.540\n",
       "Model:                            OLS   Adj. R-squared:                  0.535\n",
       "Method:                 Least Squares   F-statistic:                     117.2\n",
       "Date:                Wed, 07 Dec 2022   Prob (F-statistic):           4.61e-66\n",
       "Time:                        14:03:58   Log-Likelihood:                -417.60\n",
       "No. Observations:                 405   AIC:                             845.2\n",
       "Df Residuals:                     400   BIC:                             865.2\n",
       "Df Model:                           4                                         \n",
       "Covariance Type:            nonrobust                                         \n",
       "==================================================================================\n",
       "                     coef    std err          t      P>|t|      [0.025      0.975]\n",
       "----------------------------------------------------------------------------------\n",
       "female_pct         0.0642      0.034      1.870      0.062      -0.003       0.132\n",
       "ell_pct            0.3094      0.045      6.813      0.000       0.220       0.399\n",
       "low_income_pct    -0.9003      0.045    -19.873      0.000      -0.989      -0.811\n",
       "stratio           -0.0222      0.034     -0.646      0.519      -0.090       0.045\n",
       "y_intercept     3.445e-15      0.034   1.02e-13      1.000      -0.067       0.067\n",
       "==============================================================================\n",
       "Omnibus:                       46.979   Durbin-Watson:                   1.794\n",
       "Prob(Omnibus):                  0.000   Jarque-Bera (JB):              103.435\n",
       "Skew:                           0.620   Prob(JB):                     3.46e-23\n",
       "Kurtosis:                       5.143   Cond. No.                         2.23\n",
       "==============================================================================\n",
       "\n",
       "Notes:\n",
       "[1] Standard Errors assume that the covariance matrix of the errors is correctly specified.\n",
       "\"\"\""
      ]
     },
     "execution_count": 65,
     "metadata": {},
     "output_type": "execute_result"
    }
   ],
   "source": [
    "col_names = list(df_doe.drop(\"score_math\", axis=1).columns) + ['y_intercept']\n",
    "model.summary(xname=col_names)"
   ]
  },
  {
   "cell_type": "markdown",
   "id": "03d20c98-4158-4040-abcd-3e7c5d47a645",
   "metadata": {},
   "source": [
    "## Step 4: Interpretation"
   ]
  },
  {
   "cell_type": "markdown",
   "id": "f67c80dc-b4b5-48e9-813f-f1cdfe9416ee",
   "metadata": {},
   "source": [
    "### Technical Summary:"
   ]
  },
  {
   "cell_type": "markdown",
   "id": "d0e144e2-2cf1-4614-b9ec-d58f3bb61a22",
   "metadata": {},
   "source": [
    "A multiple regression was conducted to evaluate both the combined and unique contributions of income, English speaking abilites, teacher-to-student ratio, and gender for predicting individual differences in Math abilities. In combination, the predictors made a **significant contribution** to the prediction of the dependent variable, accounting for approximately **54% of the variance** in **Math MCAS scores**; *R^2* = 0.54 (*Adj. R^2* = 0.535), *F*(4, 400) = 117.2, *p* < 0.001. Of the four predictors, only **low_income_pct** (*Beta* = -0.90, *t* = -19.87, *p* < 0.001) and **ell_pct** (*Beta* = 0.31, *t* = 6.81, *p* < 0.001) made **significant unique contributions**, uniquely accounting for **45.45%** and **5.34%** of the variance in Math MCAS scores, respectively."
   ]
  },
  {
   "cell_type": "markdown",
   "id": "73adda6b-226d-43ea-8b38-dc30bbf4103d",
   "metadata": {},
   "source": [
    "### Implications & Future Directions:"
   ]
  },
  {
   "cell_type": "markdown",
   "id": "ce486605-6fc2-463c-8962-f2113ad0ac48",
   "metadata": {},
   "source": [
    "This analysis has shown that math abilities in school districts with a high percentage of **low-income households** tend to be poorer compared to districts with less low-income households. The very high unique contribution of 45.45% is alarming and, while no causation can be established, future interventions should particularly target those students that come from a low-income household and, for example, offer them extra support in Mathematics or improve teacher quality within those districts. "
   ]
  },
  {
   "cell_type": "markdown",
   "id": "32efdab2-4e0a-4d24-a8fe-cca818249597",
   "metadata": {},
   "source": [
    "While math abilities in districts with a high percentage of **English Language Learners** also tend to be poorer compared to districts with less ELLs, its unique impact is not as great. A potential explanation could be that ELLs are not actually worse in Mathematics that non-ELLs but that they just have struggles understanding the tasks because of language barriers. This should be further investigated to determine whether ELLs should be targeted through interventions."
   ]
  },
  {
   "cell_type": "markdown",
   "id": "c7a068d9-e19a-40f3-9330-4c2f562f7916",
   "metadata": {},
   "source": [
    "Both **gender** and **student-to-teacher ratio** do not have any utility in predicting Math abilties. It may be worth investigating the impact of gender on Math abilties from student to student instead of doing it from district to district as it has previously been shown that females are often being encouraged less to undertake mathematical subjects. In future analyses, one may investigate the effect of teacher quality instead of student to teacher ratio as good quality teaching may be more important as having more teachers with regards to Math abilites."
   ]
  },
  {
   "cell_type": "markdown",
   "id": "7f0c6bd4-2472-4805-9ac9-03d85c51a681",
   "metadata": {},
   "source": [
    "### Improvements of the Regression Model"
   ]
  },
  {
   "cell_type": "markdown",
   "id": "7a41c1ab-8f60-4887-8472-48e74737a08f",
   "metadata": {},
   "source": [
    "Test model assumptions and fix them (i.e, linearity, normality, multicolleanarity, homoskedasticity)."
   ]
  },
  {
   "cell_type": "markdown",
   "id": "6a93a873-0383-49d6-acbb-67ecfb673b23",
   "metadata": {},
   "source": [
    "Integrate teacher quality and remove gender and student to teacher ratio."
   ]
  },
  {
   "cell_type": "markdown",
   "id": "7d85b1e7-171b-4f75-aef4-dd2e4ad4226e",
   "metadata": {},
   "source": [
    "Run a regression with percent of students meeting or exceeding expectations on the Math MCAS test as the outcome variable."
   ]
  },
  {
   "cell_type": "markdown",
   "id": "23e79181-14d5-44bf-ae80-1e72a7b46c9e",
   "metadata": {},
   "source": [
    "Split data set into train and test data to check applicable predictive utility of the model."
   ]
  },
  {
   "cell_type": "markdown",
   "id": "f41f62b2-2a18-44d4-8493-f7336c897379",
   "metadata": {},
   "source": [
    "Try a logarithmic model."
   ]
  }
 ],
 "metadata": {
  "kernelspec": {
   "display_name": "Python 3 (ipykernel)",
   "language": "python",
   "name": "python3"
  },
  "language_info": {
   "codemirror_mode": {
    "name": "ipython",
    "version": 3
   },
   "file_extension": ".py",
   "mimetype": "text/x-python",
   "name": "python",
   "nbconvert_exporter": "python",
   "pygments_lexer": "ipython3",
   "version": "3.9.12"
  }
 },
 "nbformat": 4,
 "nbformat_minor": 5
}
